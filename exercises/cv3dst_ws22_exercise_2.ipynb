{
 "cells": [
  {
   "cell_type": "markdown",
   "metadata": {
    "id": "xABx3A-soZMM"
   },
   "source": [
    "In this exercise, we will first create an extension of the IoU- and ReID-based tracker we created in the previous exercise that will make it more robust to occlusions by allowing it to recover from missed detections.\n",
    "\n",
    "We will then implement a Message Passing Network that we will use to learn features that combine position and appearance information. On these edge features, we then base our prediction on associations between past tracks and new detections.\n",
    "\n",
    "Your tasks are the following:\n",
    "- Adapt the track management scheme of our Tracker to allow it to recover from missed detections.\n",
    "- Implement a Message Passing Network to operate on bipartite graphs\n",
    "- Implement the pairwise feature computation to obtain features for our Message Passing Network\n",
    "- Train the Message Passing Network and improve your tracker's IDF1 score\n",
    "- Use the Message Passing Network instead of the distance matrix in the Tracker\n",
    "\n",
    "##  Setup\n",
    "### Download and extract project data to your Google Drive\n",
    "\n",
    "1. **Required**: Please follow all instructions of exercise 0 and exercise 1 before running this notebook.\n",
    "1. Save this notebook to your Google Drive by clicking Save a copy in Drive from the File menu.\n",
    "3. Download [this](https://vision.in.tum.de/webshare/u/cetintas/cv3dst_gnn_exercise.zip) zip file to your desktop, extract it and upload it into the Colab Notebooks folder in your Google Drive."
   ]
  },
  {
   "cell_type": "markdown",
   "metadata": {
    "id": "DWELy8_1pDm9"
   },
   "source": [
    "#### Connect the notebook to your Google Drive"
   ]
  },
  {
   "cell_type": "code",
   "execution_count": null,
   "metadata": {
    "id": "QY4sb4bP7Wi8"
   },
   "outputs": [],
   "source": [
    "#from google.colab import drive\n",
    "\n",
    "#drive.mount('/content/gdrive')"
   ]
  },
  {
   "cell_type": "code",
   "execution_count": 1,
   "metadata": {
    "id": "7CDNCYKuF0VD"
   },
   "outputs": [],
   "source": [
    "root_dir = \"cv3dst_exercise/\"\n",
    "gnn_root_dir = \"cv3dst_gnn_exercise/\""
   ]
  },
  {
   "cell_type": "markdown",
   "metadata": {
    "id": "3wme28GdFAFY"
   },
   "source": [
    "The `root_dir` path points to the directory and the content in your Google Drive."
   ]
  },
  {
   "cell_type": "code",
   "execution_count": 2,
   "metadata": {
    "id": "G5IArCFxEz-M"
   },
   "outputs": [
    {
     "name": "stderr",
     "output_type": "stream",
     "text": [
      "'ls' is not recognized as an internal or external command,\n",
      "operable program or batch file.\n"
     ]
    }
   ],
   "source": [
    "!ls \"gdrive/My Drive/Colab Notebooks/cv3dst_gnn_exercise/data\""
   ]
  },
  {
   "cell_type": "markdown",
   "metadata": {
    "id": "LFYSSMiwpxSq"
   },
   "source": [
    "#### Install and import Python libraries"
   ]
  },
  {
   "cell_type": "code",
   "execution_count": null,
   "metadata": {
    "id": "KRMsynpFU6gh"
   },
   "outputs": [],
   "source": [
    "%load_ext autoreload\n",
    "%autoreload 2\n",
    "%matplotlib inline\n",
    "\n",
    "!pip install tqdm lap\n",
    "!pip install https://github.com/timmeinhardt/py-motmetrics/archive/fix_pandas_deprecating_warnings.zip"
   ]
  },
  {
   "cell_type": "code",
   "execution_count": null,
   "metadata": {
    "id": "RGOohkAgo-hW"
   },
   "outputs": [],
   "source": [
    "import os\n",
    "import sys\n",
    "sys.path.append(os.path.join(gnn_root_dir, 'src'))\n",
    "\n",
    "\n",
    "import matplotlib.pyplot as plt\n",
    "import numpy as np\n",
    "import time\n",
    "from tqdm.autonotebook import tqdm\n",
    "\n",
    "import torch\n",
    "from torch.utils.data import DataLoader\n",
    "\n",
    "from tracker.data_track import MOT16Sequences\n",
    "from tracker.tracker import Tracker, ReIDTracker\n",
    "from tracker.utils import run_tracker, cosine_distance\n",
    "from scipy.optimize import linear_sum_assignment as linear_assignment\n",
    "import os.path as osp\n",
    "\n",
    "import motmetrics as mm\n",
    "mm.lap.default_solver = 'lap'"
   ]
  },
  {
   "cell_type": "code",
   "execution_count": null,
   "metadata": {
    "id": "hcbme23UQ5p2"
   },
   "outputs": [],
   "source": [
    "!ls \"gdrive/My Drive/Colab Notebooks/cv3dst_exercise/data/MOT16/train\"\n",
    "!ls \"gdrive/My Drive/Colab Notebooks/cv3dst_exercise/data/MOT16/test\""
   ]
  },
  {
   "cell_type": "markdown",
   "metadata": {
    "id": "-Qubi7uE6EPd"
   },
   "source": [
    "## Speed-Ups\n",
    "In order to speed up training and inference runtimes, in this exercise we will be working with pre-computed detections and ReID embeddings. We ran the object detector we provided in Exercise 0 and applied to all frames. We also computed reid embeddings for all boxes in every frame of the dataset so that they don't need to be computed every time you run your tracker. This yields over 10x speed improvements. You will not have to work directly with the resulting files, as we have internally adapted the boilerplate code to work with them."
   ]
  },
  {
   "cell_type": "code",
   "execution_count": null,
   "metadata": {
    "id": "tESJ1I1n7ot1"
   },
   "outputs": [],
   "source": [
    "train_db = torch.load(osp.join(gnn_root_dir, 'data/preprocessed_data_train_2.pth'))"
   ]
  },
  {
   "cell_type": "markdown",
   "metadata": {
    "id": "bqQQId537ot2"
   },
   "source": [
    "## Exercise Part 0 - Assignment's 1 ReIDHungarianTracker\n",
    "\n",
    "We start by providing a sample solution of the ``ReIDTracker`` from Exercise 1.\n",
    "It will serve as our baseline.\n",
    "\n",
    "\n",
    "Recall that this tracker works by performing frame-to-frame bipartite matching between newly detected boxes and past tracks based on ReID distance. Whenever a past track cannot be matched, its killed. And whenever, a newly detected box cannot be match, it starts a new trajectory.\n",
    "\n",
    "**NOTE**: We have modified the ``compute_distance`` function in ``data_association`` from last week to include a threshold on ReID distance (if ReID distance >0.1, matching is not possible). This is important to prevent our tracker from reusing tracks for very dissimilar objects.\n",
    "\n",
    "Results:\n",
    "```\n",
    "          IDF1   IDP   IDR  Rcll  Prcn  GT  MT  PT ML   FP    FN IDs   FM  MOTA  MOTP\n",
    "MOT16-02 40.5% 57.5% 31.3% 52.2% 96.1%  62  12  38 12  390  8873 203  210 49.1% 0.090\n",
    "MOT16-05 54.4% 64.4% 47.1% 68.8% 94.0% 133  54  67 12  305  2156 330  149 59.7% 0.142\n",
    "MOT16-09 49.9% 61.7% 41.9% 66.3% 97.7%  26  13  12  1   82  1793  77   76 63.3% 0.082\n",
    "MOT16-11 61.1% 67.4% 55.9% 80.2% 96.6%  75  44  24  7  266  1871 176   91 75.5% 0.083\n",
    "OVERALL  49.6% 62.3% 41.2% 63.5% 96.1% 296 123 141 32 1043 14693 786  526 59.0% 0.097\n",
    "```\n"
   ]
  },
  {
   "cell_type": "code",
   "execution_count": null,
   "metadata": {
    "id": "S6ZQRUbo7ot2"
   },
   "outputs": [],
   "source": [
    "_UNMATCHED_COST=255\n",
    "class ReIDHungarianTracker(ReIDTracker):\n",
    "    def data_association(self, boxes, scores, pred_features):  \n",
    "        \"\"\"Refactored from previous implementation to split it onto distance computation and track management\"\"\"\n",
    "        if self.tracks:\n",
    "            track_boxes = torch.stack([t.box for t in self.tracks], axis=0)\n",
    "            track_features = torch.stack([t.get_feature() for t in self.tracks], axis=0)\n",
    "            \n",
    "            distance = self.compute_distance_matrix(track_features, pred_features,\n",
    "                                                    track_boxes, boxes, metric_fn=cosine_distance)\n",
    "\n",
    "            # Perform Hungarian matching.\n",
    "            row_idx, col_idx = linear_assignment(distance)            \n",
    "            self.update_tracks(row_idx, col_idx, distance, boxes, scores, pred_features)\n",
    "\n",
    "            \n",
    "        else:\n",
    "            # No tracks exist.\n",
    "            self.add(boxes, scores, pred_features)\n",
    "        \n",
    "    def update_tracks(self, row_idx, col_idx, distance, boxes, scores, pred_features):\n",
    "        \"\"\"Updates existing tracks and removes unmatched tracks.\n",
    "           Reminder: If the costs are equal to _UNMATCHED_COST, it's not a \n",
    "           match. \n",
    "        \"\"\"\n",
    "        track_ids = [t.id for t in self.tracks]\n",
    "\n",
    "        unmatched_track_ids = []\n",
    "        seen_track_ids = []\n",
    "        seen_box_idx = []\n",
    "        for track_idx, box_idx in zip(row_idx, col_idx):\n",
    "            costs = distance[track_idx, box_idx] \n",
    "            internal_track_id = track_ids[track_idx]\n",
    "            seen_track_ids.append(internal_track_id)\n",
    "            if costs == _UNMATCHED_COST:\n",
    "                unmatched_track_ids.append(internal_track_id)\n",
    "            else:\n",
    "                self.tracks[track_idx].box = boxes[box_idx]\n",
    "                self.tracks[track_idx].add_feature(pred_features[box_idx])\n",
    "                seen_box_idx.append(box_idx)\n",
    "\n",
    "        unseen_track_ids = set(track_ids) - set(seen_track_ids)\n",
    "        unmatched_track_ids.extend(list(unseen_track_ids))\n",
    "        self.tracks = [t for t in self.tracks\n",
    "                       if t.id not in unmatched_track_ids]\n",
    "\n",
    "\n",
    "        # Add new tracks.\n",
    "        new_boxes_idx = set(range(len(boxes))) - set(seen_box_idx)\n",
    "        new_boxes = [boxes[i] for i in new_boxes_idx]\n",
    "        new_scores = [scores[i] for i in new_boxes_idx]\n",
    "        new_features = [pred_features[i] for i in new_boxes_idx]\n",
    "        self.add(new_boxes, new_scores, new_features)\n"
   ]
  },
  {
   "cell_type": "code",
   "execution_count": null,
   "metadata": {
    "id": "dZ1vBklj7ot3"
   },
   "outputs": [],
   "source": [
    "val_sequences = MOT16Sequences('MOT16-reid', root_dir = osp.join(root_dir, 'data/MOT16'), vis_threshold=0.)"
   ]
  },
  {
   "cell_type": "code",
   "execution_count": null,
   "metadata": {
    "id": "x_z2Yl_ypm25"
   },
   "outputs": [],
   "source": [
    "tracker = ReIDHungarianTracker(None)\n",
    "run_tracker(val_sequences, db=train_db, tracker=tracker, output_dir=None)"
   ]
  },
  {
   "cell_type": "markdown",
   "metadata": {
    "id": "1NgkrWTy7ot4"
   },
   "source": [
    "## Exercise Part I - Long-Term ReID Tracker\n"
   ]
  },
  {
   "cell_type": "markdown",
   "metadata": {
    "id": "9R8udP5I7ot4"
   },
   "source": [
    "The tracker above has an obvious limitation: whenever a track cannot be matched with the detections of a given frame the track will be killed. This means that if our detector misses an object in a single frame (due to e.g. occlusion), we will not be able to recover that track, and we will start a new one. \n",
    "\n",
    "To fix this issue, we would like to allow our tracker to maintain tracks that are not matched during data association. We will refer to these tracks as **inactive**. During data association, we will try to match the detected boxes for the current frame to both tracks that are active (i.e. tracks that we were able to match in the previous frame) as well as those that are inactive. Therefore, if a detector misses an object in a frame and the object reappears after a few frames, we will still be able to match it to its corresponding track, instead of creating a new one.\n",
    "\n",
    "In order to adapt our tracker to have this behavior, we will use the `inactive` attribute from the `track` class (see `tracker/tracker.py`. This attribute will be assigned an integer indicating for how many frames a track has remained unmatched. Whenever we are able to match the track `t`, we will set `t.inactive=0` and, naturally, when tracks are initialized, the class constructor sets `inactive=0`. \n",
    "\n",
    "Your job is to maintain the `inactive` attribute of all tracks being kept by tracker so that its value represents the number of frames for which the track has been unmatched. Additionally, we introduce a `patience` parameter. Whenever a track has been inactive for more than `inactive` frames. it will need to be killed.\n",
    "\n",
    "Results should approximately be around:\n",
    "\n",
    "```\n",
    "          IDF1   IDP   IDR  Rcll  Prcn  GT  MT  PT ML   FP    FN IDs   FM  MOTA  MOTP\n",
    "MOT16-02 45.9% 65.1% 35.4% 52.2% 96.1%  62  12  37 13  390  8873 130  210 49.4% 0.090\n",
    "MOT16-05 63.4% 75.0% 54.9% 68.8% 94.0% 133  54  67 12  305  2156 283  149 60.3% 0.142\n",
    "MOT16-09 52.5% 64.9% 44.1% 66.3% 97.7%  26  13  12  1   82  1793  49   76 63.9% 0.083\n",
    "MOT16-11 68.3% 75.3% 62.5% 80.2% 96.6%  75  44  24  7  266  1871 136   90 75.9% 0.083\n",
    "OVERALL  55.7% 70.0% 46.2% 63.5% 96.1% 296 123 140 33 1043 14693 598  525 59.4% 0.097\n",
    "```\n"
   ]
  },
  {
   "cell_type": "code",
   "execution_count": null,
   "metadata": {
    "id": "H84RSsmK7ot5"
   },
   "outputs": [],
   "source": [
    "class LongTermReIDHungarianTracker(ReIDHungarianTracker):\n",
    "    def __init__(self, patience, *args, **kwargs):\n",
    "        \"\"\" Add a patience parameter\"\"\"\n",
    "        self.patience=patience\n",
    "        super().__init__(*args, **kwargs)\n",
    "\n",
    "    def update_results(self):\n",
    "        \"\"\"Only store boxes for tracks that are active\"\"\"\n",
    "        for t in self.tracks:\n",
    "            if t.id not in self.results.keys():\n",
    "                self.results[t.id] = {}\n",
    "            if t.inactive == 0: # Only change\n",
    "                self.results[t.id][self.im_index] = np.concatenate([t.box.cpu().numpy(), np.array([t.score])])\n",
    "\n",
    "        self.im_index += 1        \n",
    "        \n",
    "    def update_tracks(self, row_idx, col_idx, distance, boxes, scores, pred_features):\n",
    "        track_ids = [t.id for t in self.tracks]\n",
    "\n",
    "        unmatched_track_ids = []\n",
    "        seen_track_ids = []\n",
    "        seen_box_idx = []\n",
    "        for track_idx, box_idx in zip(row_idx, col_idx):\n",
    "            costs = distance[track_idx, box_idx] \n",
    "            internal_track_id = track_ids[track_idx]\n",
    "            seen_track_ids.append(internal_track_id)\n",
    "            if costs == _UNMATCHED_COST:\n",
    "                unmatched_track_ids.append(internal_track_id)\n",
    "\n",
    "            else:\n",
    "                self.tracks[track_idx].box = boxes[box_idx]\n",
    "                self.tracks[track_idx].add_feature(pred_features[box_idx])\n",
    "                \n",
    "                # Note: the track is matched, therefore, inactive is set to 0\n",
    "                self.tracks[track_idx].inactive=0\n",
    "                seen_box_idx.append(box_idx)\n",
    "                \n",
    "\n",
    "        unseen_track_ids = set(track_ids) - set(seen_track_ids)\n",
    "        unmatched_track_ids.extend(list(unseen_track_ids))\n",
    "        ##################\n",
    "        ### TODO starts\n",
    "        ##################\n",
    "        \n",
    "        # Update the `inactive` attribute for those tracks that have been \n",
    "        # not been matched. kill those for which the inactive parameter \n",
    "        # is > self.patience\n",
    "\n",
    "\n",
    "        self.tracks = [] # <-- Needs to be updated\n",
    "        \n",
    "        ##################\n",
    "        ### TODO ends\n",
    "        ##################        \n",
    "        \n",
    "        new_boxes_idx = set(range(len(boxes))) - set(seen_box_idx)\n",
    "        new_boxes = [boxes[i] for i in new_boxes_idx]\n",
    "        new_scores = [scores[i] for i in new_boxes_idx]\n",
    "        new_features = [pred_features[i] for i in new_boxes_idx]\n",
    "        self.add(new_boxes, new_scores, new_features)"
   ]
  },
  {
   "cell_type": "code",
   "execution_count": null,
   "metadata": {
    "id": "E-COcYAu7ot6"
   },
   "outputs": [],
   "source": [
    "tracker = LongTermReIDHungarianTracker(patience=20, obj_detect=None)\n",
    "run_tracker(val_sequences, db=train_db, tracker=tracker, output_dir=None)"
   ]
  },
  {
   "cell_type": "markdown",
   "metadata": {
    "id": "CBeSJrY87ot7"
   },
   "source": [
    "## Exercise Part II - Building a tracker based on Neural Message Passing\n",
    "\n",
    "Our ``LongTermReIDHungarianTracker`` is still limited when compared to current modern trackers. \n",
    "\n",
    "Firstly, it relies solely on appearance to predict similarity scores between objectes. This can be problematic whenever appearance alone may not discriminative, and it'd be best to also take into account object position and size attributes. Secondly, our tracker can only account for pairwise similarities among objects. Ideally, we would like it to also consider higher-order information.\n",
    "\n",
    "To address these limitations. We will now build a tracker that will combine both apperance and position information with a Message Passing Neural Network, inspired by the approach presented in [Learning a Neural Solver for Multiple Object Tracking, CVPR 2020](https://arxiv.org/abs/1912.07515)\n",
    "\n",
    "The overall idea will be to build, for every tracking step, a bipartite graph containing two sets of nodes: past tracks, and detections in the current frame. We will initialize node features with ReID embeddings, and edge features with relative position features and ReID distance. We will use an MPN to refine these edge embeddings. The learning task will be to classify the edge embeddings in this graph, which is equivalent to predicting the entries of our data association similarity matrix.\n"
   ]
  },
  {
   "cell_type": "markdown",
   "metadata": {
    "id": "eVbnOrlPqWRB"
   },
   "source": [
    "### Building an MPN for Bipartite Graphs\n",
    "\n",
    "We will first build a Neural Message Passing layer based on the Graph Networks framework introduced in [Relational inductive biases, deep learning, and graph networks, arXiv 2020](https://arxiv.org/abs/1806.01261), as explained in the *A More General Framework* slides of [Lecture 5](https://youtu.be/BR3Y5bAz5Dw) (slides 70 to 75).\n",
    "\n",
    "We will be using a bipartite graph, i.e., we will have two sets of nodes $A$ (past tracks), and $B$ (detections), and our set of edges will be $A\\times B$. That is, we will connect every pair of past tracks and detections.\n",
    "\n",
    "We will have initial node features (i.e. reid embeddings) matrices: $X_A$ and $X_B$ and an initial edge features tensor $E$.\n",
    "\n",
    "$X_A$ and $X_B$ have shape $|A|\\times \\text{node_dim}$ and $|B|\\times \\text{node_dim}$, respectively.\n",
    "\n",
    "$E$ has shape $|A| \\times |B| \\times \\text{edge_dim}$. Its $(i, j)$ entry contains the edge features of node $i$ in $A$ and node $j$ in $B$.\n",
    "\n",
    "With the given layer, we will produce new node feature matrices $X_A'$ and $X_B'$ and edge features $E'$ with the same dimensions. \n",
    "Please refer to the formulas in the slides and figure how to apply them in this setting.\n",
    "\n",
    "You are asked to implement both the node and edge update steps in the class below\n",
    "\n",
    "**NOTE 1**: Working with a bipartite graph allows us to vectorize all operations in the formulas in a straightforward manner (keep in mind that we store edge features in a matrix). Given a node in $A$, it is connected to all nodes in $B$.\n",
    "\n",
    "**NOTE 2**: You do not need to care about batching several graphs. This implementation will only work with a single graph at a time."
   ]
  },
  {
   "cell_type": "code",
   "execution_count": null,
   "metadata": {
    "id": "4q2I6Luo7ot7"
   },
   "outputs": [],
   "source": [
    "from torch import nn\n",
    "\n",
    "class BipartiteNeuralMessagePassingLayer(nn.Module):    \n",
    "    def __init__(self, node_dim, edge_dim, dropout=0.):\n",
    "        super().__init__()\n",
    "\n",
    "        edge_in_dim  = 2*node_dim + 2*edge_dim # 2*edge_dim since we always concatenate initial edge features\n",
    "        self.edge_mlp = nn.Sequential(*[nn.Linear(edge_in_dim, edge_dim), nn.ReLU(), nn.Dropout(dropout), \n",
    "                                    nn.Linear(edge_dim, edge_dim), nn.ReLU(), nn.Dropout(dropout)])\n",
    "\n",
    "        node_in_dim  = node_dim + edge_dim\n",
    "        self.node_mlp = nn.Sequential(*[nn.Linear(node_in_dim, node_dim), nn.ReLU(), nn.Dropout(dropout),  \n",
    "                                        nn.Linear(node_dim, node_dim), nn.ReLU(), nn.Dropout(dropout)])\n",
    "\n",
    "    def edge_update(self, edge_embeds, nodes_a_embeds, nodes_b_embeds):\n",
    "        \"\"\"\n",
    "        Node-to-edge updates, as descibed in slide 71, lecture 5.\n",
    "        Args:\n",
    "            edge_embeds: torch.Tensor with shape (|A|, |B|, 2 x edge_dim) \n",
    "            nodes_a_embeds: torch.Tensor with shape (|A|, node_dim)\n",
    "            nodes_a_embeds: torch.Tensor with shape (|B|, node_dim)\n",
    "            \n",
    "        returns:\n",
    "            updated_edge_feats = torch.Tensor with shape (|A|, |B|, edge_dim) \n",
    "        \"\"\"\n",
    "        \n",
    "        n_nodes_a, n_nodes_b, _  = edge_embeds.shape\n",
    "        \n",
    "        ########################\n",
    "        #### TODO starts\n",
    "        ########################\n",
    "        \n",
    "        edge_in = ... # has shape (|A|, |B|, 2*node_dim + 2*edge_dim) \n",
    "        \n",
    "        ########################\n",
    "        #### TODO ends\n",
    "        ########################\n",
    "        \n",
    "        \n",
    "        return self.edge_mlp(edge_in)\n",
    "\n",
    "    def node_update(self, edge_embeds, nodes_a_embeds, nodes_b_embeds):\n",
    "        \"\"\"\n",
    "        Edge-to-node updates, as descibed in slide 75, lecture 5.\n",
    "\n",
    "        Args:\n",
    "            edge_embeds: torch.Tensor with shape (|A|, |B|, edge_dim) \n",
    "            nodes_a_embeds: torch.Tensor with shape (|A|, node_dim)\n",
    "            nodes_b_embeds: torch.Tensor with shape (|B|, node_dim)\n",
    "            \n",
    "        returns:\n",
    "            tuple(\n",
    "                updated_nodes_a_embeds: torch.Tensor with shape (|A|, node_dim),\n",
    "                updated_nodes_b_embeds: torch.Tensor with shape (|B|, node_dim)\n",
    "                )\n",
    "        \"\"\"\n",
    "        \n",
    "        ########################\n",
    "        #### TODO starts\n",
    "        ########################\n",
    "        \n",
    "        # NOTE: Use 'sum' as aggregation function\n",
    "\n",
    "        \n",
    "        nodes_a_in = ... # Has shape (|A|, node_dim + edge_dim) \n",
    "        nodes_b_in = ... # Has shape (|B|, node_dim + edge_dim) \n",
    "\n",
    "        ########################\n",
    "        #### TODO ends\n",
    "        ########################\n",
    "\n",
    "        nodes_a = self.node_mlp(nodes_a_in)\n",
    "        nodes_b = self.node_mlp(nodes_b_in)\n",
    "\n",
    "        return nodes_a, nodes_b\n",
    "\n",
    "    def forward(self, edge_embeds, nodes_a_embeds, nodes_b_embeds):\n",
    "        edge_embeds_latent = self.edge_update(edge_embeds, nodes_a_embeds, nodes_b_embeds)\n",
    "        nodes_a_latent, nodes_b_latent = self.node_update(edge_embeds_latent, nodes_a_embeds, nodes_b_embeds)\n",
    "\n",
    "        return edge_embeds_latent, nodes_a_latent, nodes_b_latent"
   ]
  },
  {
   "cell_type": "markdown",
   "metadata": {
    "id": "F2sPoUo07ot8"
   },
   "source": [
    "## Building the entire network to predict similarities\n",
    "We now build the network that generates initial node and edge features, performs neural message passing, and classifies edges in order to produce the final costs that we will use for data association.\n",
    "\n",
    "You need to implement the method that computes the initial edge features. You can follow [1] and, given a two bounding boxes $(x_i, y_i, w_i, h_i)$ and  $(x_j, y_j, w_j, h_j)$ and timestamps $t_i$ and $t_j$, compute an initial 5-dimensional edge feature vector as:\n",
    "$$ E_{(i, j)} = \\left(\\frac{2(x_j - x_i)}{h_i + h_j}, \\frac{2(y_j - y_i)}{h_i + h_j}, \\log{\\frac{h_i}{h_j}}, \\log{\\frac{w_i}{w_j}}, t_j - t_i \\right )$$\n",
    "\n",
    "\n",
    "Feel free to engineer your own features (e.g. use IoU, etc.)"
   ]
  },
  {
   "cell_type": "code",
   "execution_count": null,
   "metadata": {
    "id": "nF7apF9C7ot8"
   },
   "outputs": [],
   "source": [
    "from torch.nn import functional as F\n",
    "class AssignmentSimilarityNet(nn.Module):\n",
    "    def __init__(self, reid_network, node_dim, edge_dim, reid_dim, edges_in_dim, num_steps, dropout=0.):\n",
    "        super().__init__()\n",
    "        self.reid_network = reid_network\n",
    "        self.graph_net = BipartiteNeuralMessagePassingLayer(node_dim=node_dim, edge_dim=edge_dim, dropout=dropout)\n",
    "        self.num_steps = num_steps\n",
    "        self.cnn_linear = nn.Linear(reid_dim, node_dim)\n",
    "        self.edge_in_mlp = nn.Sequential(*[nn.Linear(edges_in_dim, edge_dim), nn.ReLU(), nn.Dropout(dropout), nn.Linear(edge_dim, edge_dim), nn.ReLU(),nn.Dropout(dropout)])\n",
    "        self.classifier = nn.Sequential(*[nn.Linear(edge_dim, edge_dim), nn.ReLU(), nn.Linear(edge_dim, 1)])\n",
    "        \n",
    "    \n",
    "    def compute_edge_feats(self, track_coords, current_coords, track_t, curr_t):    \n",
    "        \"\"\"\n",
    "        Computes initial edge feature tensor\n",
    "\n",
    "        Args:\n",
    "            track_coords: track's frame box coordinates, given by top-left and bottom-right coordinates\n",
    "                          torch.Tensor with shape (num_tracks, 4)\n",
    "            current_coords: current frame box coordinates, given by top-left and bottom-right coordinates\n",
    "                            has shape (num_boxes, 4)\n",
    "                          \n",
    "            track_t: track's timestamps, torch.Tensor with with shape (num_tracks, )\n",
    "            curr_t: current frame's timestamps, torch.Tensor withwith shape (num_boxes,)        \n",
    "            \n",
    "        \n",
    "        Returns:\n",
    "            tensor with shape (num_trakcs, num_boxes, 5) containing pairwise\n",
    "            position and time difference features \n",
    "        \"\"\"\n",
    "\n",
    "        ########################\n",
    "        #### TODO starts\n",
    "        ########################\n",
    "        \n",
    "        # NOTE 1: we recommend you to use box centers to compute distances\n",
    "        # in the x and y coordinates.\n",
    "\n",
    "        # NOTE 2: Check out the  code inside train_one_epoch function and \n",
    "        # LongTrackTrainingDataset class a few cells below to debug this\n",
    "        \n",
    "        ########################\n",
    "        #### TODO ends\n",
    "        ########################\n",
    "\n",
    "        return edge_feats # has shape (num_trakcs, num_boxes, 5)\n",
    "\n",
    "\n",
    "    def forward(self, track_app, current_app, track_coords, current_coords, track_t, curr_t):\n",
    "        \"\"\"\n",
    "        Args:\n",
    "            track_app: track's reid embeddings, torch.Tensor with shape (num_tracks, 512)\n",
    "            current_app: current frame detections' reid embeddings, torch.Tensor with shape (num_boxes, 512)\n",
    "            track_coords: track's frame box coordinates, given by top-left and bottom-right coordinates\n",
    "                          torch.Tensor with shape (num_tracks, 4)\n",
    "            current_coords: current frame box coordinates, given by top-left and bottom-right coordinates\n",
    "                            has shape (num_boxes, 4)\n",
    "                          \n",
    "            track_t: track's timestamps, torch.Tensor with with shape (num_tracks, )\n",
    "            curr_t: current frame's timestamps, torch.Tensor withwith shape (num_boxes,)\n",
    "            \n",
    "        Returns:\n",
    "            classified edges: torch.Tensor with shape (num_steps, num_tracks, num_boxes),\n",
    "                             containing at entry (step, i, j) the unnormalized probability that track i and \n",
    "                             detection j are a match, according to the classifier at the given neural message passing step\n",
    "        \"\"\"\n",
    "        \n",
    "        # Get initial edge embeddings\n",
    "        dist_reid = cosine_distance(track_app, current_app)\n",
    "        pos_edge_feats = self.compute_edge_feats(track_coords, current_coords, track_t, curr_t)\n",
    "        edge_feats = torch.cat((pos_edge_feats, dist_reid.unsqueeze(-1)), dim=-1)\n",
    "        edge_embeds = self.edge_in_mlp(edge_feats)\n",
    "        initial_edge_embeds = edge_embeds.clone()\n",
    "\n",
    "        # Get initial node embeddings, reduce dimensionality from 512 to node_dim\n",
    "        track_embeds = F.relu(self.cnn_linear(track_app))\n",
    "        curr_embeds =F.relu(self.cnn_linear(current_app))\n",
    "\n",
    "        classified_edges = []\n",
    "        for _ in range(self.num_steps):\n",
    "            edge_embeds = torch.cat((edge_embeds, initial_edge_embeds), dim=-1)            \n",
    "            edge_embeds, track_embeds, curr_embeds = self.graph_net(edge_embeds=edge_embeds, \n",
    "                                                                    nodes_a_embeds=track_embeds, \n",
    "                                                                    nodes_b_embeds=curr_embeds)\n",
    "\n",
    "            classified_edges.append(self.classifier(edge_embeds))\n",
    "\n",
    "        return torch.stack(classified_edges).squeeze(-1)"
   ]
  },
  {
   "cell_type": "markdown",
   "metadata": {
    "id": "7Cdr6YDY7ot8"
   },
   "source": [
    "## Putting everything together"
   ]
  },
  {
   "cell_type": "markdown",
   "metadata": {
    "id": "Xp3cC6j57ot9"
   },
   "source": [
    "Finally, we incorporate our ``AssignmentSimilarityNet`` into our tracker. We can keep everything as in ``LongTermReIDHungarianTracker`` except for the distance computation, which is now directly obtained via a forward pass through AssignmentSimilarityNet."
   ]
  },
  {
   "cell_type": "code",
   "execution_count": null,
   "metadata": {
    "id": "6GA99XOv7ot9"
   },
   "outputs": [],
   "source": [
    "_UNMATCHED_COST=255\n",
    "class MPNTracker(LongTermReIDHungarianTracker):\n",
    "    def __init__(self, assign_net, *args, **kwargs):\n",
    "        self.assign_net = assign_net\n",
    "        super().__init__(*args, **kwargs)\n",
    "        \n",
    "    def data_association(self, boxes, scores, pred_features):  \n",
    "        if self.tracks:  \n",
    "            track_boxes = torch.stack([t.box for t in self.tracks], axis=0).cuda()\n",
    "            track_features = torch.stack([t.get_feature() for t in self.tracks], axis=0).cuda()\n",
    "            \n",
    "            # Hacky way to recover the timestamps of boxes and tracks\n",
    "            curr_t = self.im_index * torch.ones((pred_features.shape[0],)).cuda()\n",
    "            track_t = torch.as_tensor([self.im_index - t.inactive - 1 for t in self.tracks]).cuda()\n",
    "\n",
    "            ########################\n",
    "            #### TODO starts\n",
    "            ########################\n",
    "            \n",
    "            # Do a forward pass through self.assign_net to obtain our costs.\n",
    "            # Note: self.assign_net will return unnormalized probabilities. \n",
    "            # Make sure to apply the sigmoid function to them!\n",
    "            \n",
    "\n",
    "            ########################\n",
    "            #### TODO ends\n",
    "            ########################\n",
    "\n",
    "            pred_sim = pred_sim[-1]  # Use predictions at last message passing step\n",
    "            distance = (1- pred_sim) \n",
    "            \n",
    "            # Do not allow mataches when sim < 0.5, to avoid low-confident associations\n",
    "            distance = np.where(pred_sim < 0.5, _UNMATCHED_COST, distance) \n",
    "\n",
    "            # Perform Hungarian matching.\n",
    "            row_idx, col_idx = linear_assignment(distance)            \n",
    "            self.update_tracks(row_idx, col_idx, distance, boxes, scores, pred_features)\n",
    "\n",
    "            \n",
    "        else:\n",
    "            # No tracks exist.\n",
    "            self.add(boxes, scores, pred_features)"
   ]
  },
  {
   "cell_type": "markdown",
   "metadata": {
    "id": "cyzMUfYE7ot9"
   },
   "source": [
    "## Training and evaluating our model\n",
    "\n",
    "We provide all boilerplate code for training our neural message passing based\n",
    "tracker, as well as evaluating. \n",
    "\n",
    "Under the hood, we are sampling frames randomly from our training sequences, and then sampling boxes from past frames as past_tracks to generate our \n",
    "training\n",
    "data. Check out `LongTrackTrainingDataset` for details.\n",
    "\n",
    "We train the model with a weighted cross-entropy loss\n",
    "to account for the class imbalance. Check out `train_one_epoch` if you're \n",
    "interested.\n",
    "\n",
    "Since the data is unbalanced, we add a weight $w$ for the positive samples in the binary cross entropy loss.\n",
    "$$ \\sum_{{i,j}} w \\cdot y_{i,j} \\log\\left(\\hat{y_{i,j}} \\right) + \\left(1-y_{i,j}\\right)\\log\\left(1- \\hat{y_{i,j}}\\right), $$\n",
    "where $$y_{i,j} \\in\\{ 0,1\\}$$ is one, if the edge is active in the training data and zero, otherwise.\n",
    "The variable $$\\hat{y_{i,j}} \\in[0,1]$$ denotes the learned output probability of the edge being active, which is later used for classification.\n",
    "\n",
    "\n",
    "No need to write any code from your side here!\n"
   ]
  },
  {
   "cell_type": "code",
   "execution_count": null,
   "metadata": {
    "id": "kuYy1IMK7ot9"
   },
   "outputs": [],
   "source": [
    "from gnn.dataset import LongTrackTrainingDataset\n",
    "from torch.utils.data import DataLoader\n",
    "from gnn.trainer import train_one_epoch\n",
    "\n",
    "MAX_PATIENCE = 20\n",
    "MAX_EPOCHS = 15\n",
    "EVAL_FREQ = 1\n",
    "\n",
    "\n",
    "# Define our model, and init \n",
    "assign_net = AssignmentSimilarityNet(reid_network=None, # Not needed since we work with precomputed features\n",
    "                                     node_dim=32, \n",
    "                                     edge_dim=64, \n",
    "                                     reid_dim=512, \n",
    "                                     edges_in_dim=6, \n",
    "                                     num_steps=10).cuda()\n",
    "\n",
    "# We only keep two sequences for validation\n",
    "dataset = LongTrackTrainingDataset(dataset='MOT16-train_wo_val2', \n",
    "                                   db=train_db, \n",
    "                                   root_dir= osp.join(root_dir, 'data/MOT16'),\n",
    "                                   max_past_frames = MAX_PATIENCE,\n",
    "                                   vis_threshold=0.25)\n",
    "\n",
    "data_loader = DataLoader(dataset, batch_size=8, collate_fn = lambda x: x, \n",
    "                         shuffle=True, num_workers=2, drop_last=True)\n",
    "device = torch.device('cuda')\n",
    "optimizer = torch.optim.Adam(assign_net.parameters(), lr=0.001)\n",
    "scheduler = torch.optim.lr_scheduler.StepLR(optimizer, step_size=5)"
   ]
  },
  {
   "cell_type": "markdown",
   "metadata": {
    "id": "FxiIUDGn2_Nq"
   },
   "source": [
    "We only leave 2 sequences for validation in order to maximize \n",
    "the amount of training data. For your convenience, here are the\n",
    " LongTermReIDTracker results on them. Your validation IDF1 scores should show an improvement over them.\n",
    "```\n",
    "\n",
    "          IDF1   IDP   IDR  Rcll  Prcn  GT MT PT ML  FP    FN IDs   FM  MOTA  MOTP\n",
    "MOT16-02 45.9% 65.1% 35.4% 52.2% 96.1%  62 12 37 13 390  8873 130  210 49.4% 0.090\n",
    "MOT16-11 68.3% 75.3% 62.5% 80.2% 96.6%  75 44 24  7 266  1871 136   90 75.9% 0.083\n",
    "OVERALL  54.3% 69.6% 44.5% 61.7% 96.3% 137 56 61 20 656 10744 266  300 58.4% 0.087\n",
    "```\n",
    "\n"
   ]
  },
  {
   "cell_type": "markdown",
   "metadata": {
    "id": "V7tCJJ3V3Oaa"
   },
   "source": [
    "Let's start training!\n",
    "\n",
    "Note that we have observed quite a lot of noise in validation scores among epochs and runs. That is due to the small size of our training and validation sets. Therefore, we perform early stopping to obtain the best-performing model on validation. In addition, changing the experiment seed and/ or relaunching the training might help if you suspect noise influencing your scores. "
   ]
  },
  {
   "cell_type": "code",
   "execution_count": null,
   "metadata": {
    "id": "oQHiwbVr7ot9",
    "scrolled": false
   },
   "outputs": [],
   "source": [
    "best_idf1 = 0.\n",
    "for epoch in range(1, MAX_EPOCHS + 1):\n",
    "    print(f\"-------- EPOCH {epoch:2d} --------\")\n",
    "    train_one_epoch(model = assign_net, data_loader=data_loader, optimizer=optimizer, print_freq=100)\n",
    "    scheduler.step()\n",
    "\n",
    "    if epoch % EVAL_FREQ == 0:\n",
    "        tracker =  MPNTracker(assign_net=assign_net.eval(), obj_detect=None, patience=MAX_PATIENCE)\n",
    "        val_sequences = MOT16Sequences('MOT16-val2', osp.join(root_dir, 'data/MOT16'), vis_threshold=0.)\n",
    "        res = run_tracker(val_sequences, db=train_db, tracker=tracker, output_dir=None)\n",
    "        idf1 = res.loc['OVERALL']['idf1']\n",
    "        if idf1 > best_idf1:\n",
    "            best_idf1 = idf1\n",
    "            torch.save(assign_net.state_dict(), osp.join(root_dir, 'output', 'best_ckpt.pth'))\n",
    "        "
   ]
  },
  {
   "cell_type": "markdown",
   "metadata": {
    "id": "I5Vbe4g27ot-"
   },
   "source": [
    "# Exercise submission\n",
    "\n",
    "After executing the following cell, the `Colab Notebooks/cv3dst_exercise/output` directory in your Google Drive should contain multiple `MOT16-XY.txt` files.\n",
    "\n",
    "For the final submission, you must process the test sequences and upload the zipped prediction files to our server.\n",
    "\n",
    "Note that this time, you only have to evaluate three sequences!"
   ]
  },
  {
   "cell_type": "code",
   "execution_count": null,
   "metadata": {
    "id": "8kJsbbMM7ot_"
   },
   "outputs": [],
   "source": [
    "best_ckpt = torch.load(osp.join(root_dir, 'output', 'best_ckpt.pth'))\n",
    "assign_net.load_state_dict(best_ckpt)\n",
    "\n",
    "tracker =  MPNTracker(assign_net=assign_net.eval(), obj_detect=None, patience=MAX_PATIENCE)\n",
    "test_db = torch.load(osp.join(gnn_root_dir, 'data/preprocessed_data_test_2.pth'))\n",
    "val_sequences = MOT16Sequences('MOT16-test', osp.join(root_dir, 'data/MOT16'), vis_threshold=0.)\n",
    "run_tracker(val_sequences, db=test_db, tracker=tracker, output_dir=osp.join(root_dir, 'output'))"
   ]
  }
 ],
 "metadata": {
  "accelerator": "GPU",
  "colab": {
   "machine_shape": "hm",
   "provenance": []
  },
  "kernelspec": {
   "display_name": "Python 3",
   "language": "python",
   "name": "python3"
  },
  "language_info": {
   "codemirror_mode": {
    "name": "ipython",
    "version": 3
   },
   "file_extension": ".py",
   "mimetype": "text/x-python",
   "name": "python",
   "nbconvert_exporter": "python",
   "pygments_lexer": "ipython3",
   "version": "3.6.10"
  }
 },
 "nbformat": 4,
 "nbformat_minor": 0
}
