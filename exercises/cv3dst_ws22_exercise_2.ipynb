{
 "cells": [
  {
   "cell_type": "markdown",
   "source": [
    "In this exercise, we will first create an extension of the IoU- and ReID-based tracker we created in the previous exercise that will make it more robust to occlusions by allowing it to recover from missed detections.\n",
    "\n",
    "We will then implement a Message Passing Network that we will use to learn features that combine position and appearance information. On these edge features, we then base our prediction on associations between past tracks and new detections.\n",
    "\n",
    "Your tasks are the following:\n",
    "- Adapt the track management scheme of our Tracker to allow it to recover from missed detections.\n",
    "- Implement a Message Passing Network to operate on bipartite graphs\n",
    "- Implement the pairwise feature computation to obtain features for our Message Passing Network\n",
    "- Train the Message Passing Network and improve your tracker's IDF1 score\n",
    "- Use the Message Passing Network instead of the distance matrix in the Tracker\n",
    "\n",
    "##  Setup\n",
    "### Download and extract project data to your Google Drive\n",
    "\n",
    "1. **Required**: Please follow all instructions of exercise 0 and exercise 1 before running this notebook.\n",
    "1. Save this notebook to your Google Drive by clicking Save a copy in Drive from the File menu.\n",
    "3. Download [this](https://vision.in.tum.de/webshare/u/cetintas/cv3dst_gnn_exercise.zip) zip file to your desktop, extract it and upload it into the Colab Notebooks folder in your Google Drive."
   ],
   "metadata": {
    "collapsed": false
   }
  },
  {
   "cell_type": "markdown",
   "source": [
    "#### Connect the notebook to your Google Drive"
   ],
   "metadata": {
    "collapsed": false
   }
  },
  {
   "cell_type": "code",
   "execution_count": 1,
   "outputs": [],
   "source": [
    "#from google.colab import drive\n",
    "\n",
    "#drive.mount('/content/gdrive')"
   ],
   "metadata": {
    "collapsed": false
   }
  },
  {
   "cell_type": "code",
   "execution_count": 1,
   "outputs": [],
   "source": [
    "root_dir = \"cv3dst_exercise/\"\n",
    "gnn_root_dir = \"cv3dst_gnn_exercise/\""
   ],
   "metadata": {
    "collapsed": false
   }
  },
  {
   "cell_type": "markdown",
   "source": [
    "The `root_dir` path points to the directory and the content in your Google Drive."
   ],
   "metadata": {
    "collapsed": false
   }
  },
  {
   "cell_type": "code",
   "execution_count": 2,
   "outputs": [
    {
     "name": "stderr",
     "output_type": "stream",
     "text": [
      "'ls' is not recognized as an internal or external command,\n",
      "operable program or batch file.\n"
     ]
    }
   ],
   "source": [
    "!ls \"gdrive/My Drive/Colab Notebooks/cv3dst_gnn_exercise/data\""
   ],
   "metadata": {
    "collapsed": false
   }
  },
  {
   "cell_type": "markdown",
   "source": [
    "#### Install and import Python libraries"
   ],
   "metadata": {
    "collapsed": false
   }
  },
  {
   "cell_type": "code",
   "execution_count": 4,
   "outputs": [
    {
     "name": "stdout",
     "output_type": "stream",
     "text": [
      "Requirement already satisfied: tqdm in c:\\users\\yusuf\\anaconda3\\lib\\site-packages (4.64.1)\n",
      "Requirement already satisfied: lap in c:\\users\\yusuf\\anaconda3\\lib\\site-packages (0.4.0)\n",
      "Requirement already satisfied: colorama in c:\\users\\yusuf\\anaconda3\\lib\\site-packages (from tqdm) (0.4.5)\n"
     ]
    },
    {
     "name": "stderr",
     "output_type": "stream",
     "text": [
      "WARNING: Ignoring invalid distribution -rotobuf (c:\\users\\yusuf\\anaconda3\\lib\\site-packages)\n",
      "WARNING: Ignoring invalid distribution -rotobuf (c:\\users\\yusuf\\anaconda3\\lib\\site-packages)\n",
      "WARNING: Ignoring invalid distribution -rotobuf (c:\\users\\yusuf\\anaconda3\\lib\\site-packages)\n",
      "WARNING: Ignoring invalid distribution -rotobuf (c:\\users\\yusuf\\anaconda3\\lib\\site-packages)\n",
      "WARNING: Ignoring invalid distribution -rotobuf (c:\\users\\yusuf\\anaconda3\\lib\\site-packages)\n",
      "WARNING: Ignoring invalid distribution -rotobuf (c:\\users\\yusuf\\anaconda3\\lib\\site-packages)\n"
     ]
    },
    {
     "name": "stdout",
     "output_type": "stream",
     "text": [
      "Collecting https://github.com/timmeinhardt/py-motmetrics/archive/fix_pandas_deprecating_warnings.zip\n",
      "  Using cached https://github.com/timmeinhardt/py-motmetrics/archive/fix_pandas_deprecating_warnings.zip\n",
      "  Preparing metadata (setup.py): started\n",
      "  Preparing metadata (setup.py): finished with status 'done'\n",
      "Requirement already satisfied: numpy>=1.12.1 in c:\\users\\yusuf\\anaconda3\\lib\\site-packages (from motmetrics==1.1.3) (1.21.5)\n",
      "Requirement already satisfied: pandas>=0.23.1 in c:\\users\\yusuf\\anaconda3\\lib\\site-packages (from motmetrics==1.1.3) (1.4.4)\n",
      "Requirement already satisfied: scipy>=0.19.0 in c:\\users\\yusuf\\anaconda3\\lib\\site-packages (from motmetrics==1.1.3) (1.9.1)\n",
      "Requirement already satisfied: python-dateutil>=2.8.1 in c:\\users\\yusuf\\anaconda3\\lib\\site-packages (from pandas>=0.23.1->motmetrics==1.1.3) (2.8.2)\n",
      "Requirement already satisfied: pytz>=2020.1 in c:\\users\\yusuf\\anaconda3\\lib\\site-packages (from pandas>=0.23.1->motmetrics==1.1.3) (2022.1)\n",
      "Requirement already satisfied: six>=1.5 in c:\\users\\yusuf\\anaconda3\\lib\\site-packages (from python-dateutil>=2.8.1->pandas>=0.23.1->motmetrics==1.1.3) (1.16.0)\n"
     ]
    },
    {
     "name": "stderr",
     "output_type": "stream",
     "text": [
      "WARNING: Ignoring invalid distribution -rotobuf (c:\\users\\yusuf\\anaconda3\\lib\\site-packages)\n",
      "WARNING: Ignoring invalid distribution -rotobuf (c:\\users\\yusuf\\anaconda3\\lib\\site-packages)\n",
      "WARNING: Ignoring invalid distribution -rotobuf (c:\\users\\yusuf\\anaconda3\\lib\\site-packages)\n",
      "WARNING: Ignoring invalid distribution -rotobuf (c:\\users\\yusuf\\anaconda3\\lib\\site-packages)\n",
      "WARNING: Ignoring invalid distribution -rotobuf (c:\\users\\yusuf\\anaconda3\\lib\\site-packages)\n",
      "WARNING: Ignoring invalid distribution -rotobuf (c:\\users\\yusuf\\anaconda3\\lib\\site-packages)\n"
     ]
    }
   ],
   "source": [
    "%load_ext autoreload\n",
    "%autoreload 2\n",
    "%matplotlib inline\n",
    "\n",
    "!pip install tqdm lap\n",
    "!pip install https://github.com/timmeinhardt/py-motmetrics/archive/fix_pandas_deprecating_warnings.zip"
   ],
   "metadata": {
    "collapsed": false
   }
  },
  {
   "cell_type": "code",
   "execution_count": 5,
   "outputs": [
    {
     "name": "stderr",
     "output_type": "stream",
     "text": [
      "C:\\Users\\yusuf\\AppData\\Local\\Temp\\ipykernel_26116\\3896152220.py:9: TqdmExperimentalWarning: Using `tqdm.autonotebook.tqdm` in notebook mode. Use `tqdm.tqdm` instead to force console mode (e.g. in jupyter console)\n",
      "  from tqdm.autonotebook import tqdm\n"
     ]
    }
   ],
   "source": [
    "import os\n",
    "import sys\n",
    "sys.path.append(os.path.join(gnn_root_dir, 'src'))\n",
    "\n",
    "\n",
    "import matplotlib.pyplot as plt\n",
    "import numpy as np\n",
    "import time\n",
    "from tqdm.autonotebook import tqdm\n",
    "\n",
    "import torch\n",
    "from torch.utils.data import DataLoader\n",
    "\n",
    "from tracker.data_track import MOT16Sequences\n",
    "from tracker.tracker import Tracker, ReIDTracker\n",
    "from tracker.utils import run_tracker, cosine_distance\n",
    "from scipy.optimize import linear_sum_assignment as linear_assignment\n",
    "import os.path as osp\n",
    "\n",
    "import motmetrics as mm\n",
    "mm.lap.default_solver = 'lap'"
   ],
   "metadata": {
    "collapsed": false
   }
  },
  {
   "cell_type": "code",
   "execution_count": 6,
   "outputs": [
    {
     "name": "stderr",
     "output_type": "stream",
     "text": [
      "'ls' is not recognized as an internal or external command,\n",
      "operable program or batch file.\n",
      "'ls' is not recognized as an internal or external command,\n",
      "operable program or batch file.\n"
     ]
    }
   ],
   "source": [
    "!ls \"gdrive/My Drive/Colab Notebooks/cv3dst_exercise/data/MOT16/train\"\n",
    "!ls \"gdrive/My Drive/Colab Notebooks/cv3dst_exercise/data/MOT16/test\""
   ],
   "metadata": {
    "collapsed": false
   }
  },
  {
   "cell_type": "markdown",
   "source": [
    "## Speed-Ups\n",
    "In order to speed up training and inference runtimes, in this exercise we will be working with pre-computed detections and ReID embeddings. We ran the object detector we provided in Exercise 0 and applied to all frames. We also computed reid embeddings for all boxes in every frame of the dataset so that they don't need to be computed every time you run your tracker. This yields over 10x speed improvements. You will not have to work directly with the resulting files, as we have internally adapted the boilerplate code to work with them."
   ],
   "metadata": {
    "collapsed": false
   }
  },
  {
   "cell_type": "code",
   "execution_count": 7,
   "outputs": [],
   "source": [
    "train_db = torch.load(osp.join(gnn_root_dir, 'data/preprocessed_data_train_2.pth'))"
   ],
   "metadata": {
    "collapsed": false
   }
  },
  {
   "cell_type": "markdown",
   "source": [
    "## Exercise Part 0 - Assignment's 1 ReIDHungarianTracker\n",
    "\n",
    "We start by providing a sample solution of the ``ReIDTracker`` from Exercise 1.\n",
    "It will serve as our baseline.\n",
    "\n",
    "\n",
    "Recall that this tracker works by performing frame-to-frame bipartite matching between newly detected boxes and past tracks based on ReID distance. Whenever a past track cannot be matched, its killed. And whenever, a newly detected box cannot be match, it starts a new trajectory.\n",
    "\n",
    "**NOTE**: We have modified the ``compute_distance`` function in ``data_association`` from last week to include a threshold on ReID distance (if ReID distance >0.1, matching is not possible). This is important to prevent our tracker from reusing tracks for very dissimilar objects.\n",
    "\n",
    "Results:\n",
    "```\n",
    "          IDF1   IDP   IDR  Rcll  Prcn  GT  MT  PT ML   FP    FN IDs   FM  MOTA  MOTP\n",
    "MOT16-02 40.5% 57.5% 31.3% 52.2% 96.1%  62  12  38 12  390  8873 203  210 49.1% 0.090\n",
    "MOT16-05 54.4% 64.4% 47.1% 68.8% 94.0% 133  54  67 12  305  2156 330  149 59.7% 0.142\n",
    "MOT16-09 49.9% 61.7% 41.9% 66.3% 97.7%  26  13  12  1   82  1793  77   76 63.3% 0.082\n",
    "MOT16-11 61.1% 67.4% 55.9% 80.2% 96.6%  75  44  24  7  266  1871 176   91 75.5% 0.083\n",
    "OVERALL  49.6% 62.3% 41.2% 63.5% 96.1% 296 123 141 32 1043 14693 786  526 59.0% 0.097\n",
    "```\n"
   ],
   "metadata": {
    "collapsed": false
   }
  },
  {
   "cell_type": "code",
   "execution_count": 8,
   "outputs": [],
   "source": [
    "_UNMATCHED_COST=255\n",
    "class ReIDHungarianTracker(ReIDTracker):\n",
    "    def data_association(self, boxes, scores, pred_features):\n",
    "        \"\"\"Refactored from previous implementation to split it onto distance computation and track management\"\"\"\n",
    "        if self.tracks:\n",
    "            track_boxes = torch.stack([t.box for t in self.tracks], axis=0)\n",
    "            track_features = torch.stack([t.get_feature() for t in self.tracks], axis=0)\n",
    "\n",
    "            distance = self.compute_distance_matrix(track_features, pred_features,\n",
    "                                                    track_boxes, boxes, metric_fn=cosine_distance)\n",
    "\n",
    "            # Perform Hungarian matching.\n",
    "            row_idx, col_idx = linear_assignment(distance)\n",
    "            self.update_tracks(row_idx, col_idx, distance, boxes, scores, pred_features)\n",
    "\n",
    "\n",
    "        else:\n",
    "            # No tracks exist.\n",
    "            self.add(boxes, scores, pred_features)\n",
    "\n",
    "    def update_tracks(self, row_idx, col_idx, distance, boxes, scores, pred_features):\n",
    "        \"\"\"Updates existing tracks and removes unmatched tracks.\n",
    "           Reminder: If the costs are equal to _UNMATCHED_COST, it's not a\n",
    "           match.\n",
    "        \"\"\"\n",
    "        track_ids = [t.id for t in self.tracks]\n",
    "\n",
    "        unmatched_track_ids = []\n",
    "        seen_track_ids = []\n",
    "        seen_box_idx = []\n",
    "        for track_idx, box_idx in zip(row_idx, col_idx):\n",
    "            costs = distance[track_idx, box_idx]\n",
    "            internal_track_id = track_ids[track_idx]\n",
    "            seen_track_ids.append(internal_track_id)\n",
    "            if costs == _UNMATCHED_COST:\n",
    "                unmatched_track_ids.append(internal_track_id)\n",
    "            else:\n",
    "                self.tracks[track_idx].box = boxes[box_idx]\n",
    "                self.tracks[track_idx].add_feature(pred_features[box_idx])\n",
    "                seen_box_idx.append(box_idx)\n",
    "\n",
    "        unseen_track_ids = set(track_ids) - set(seen_track_ids)\n",
    "        unmatched_track_ids.extend(list(unseen_track_ids))\n",
    "        self.tracks = [t for t in self.tracks\n",
    "                       if t.id not in unmatched_track_ids]\n",
    "\n",
    "\n",
    "        # Add new tracks.\n",
    "        new_boxes_idx = set(range(len(boxes))) - set(seen_box_idx)\n",
    "        new_boxes = [boxes[i] for i in new_boxes_idx]\n",
    "        new_scores = [scores[i] for i in new_boxes_idx]\n",
    "        new_features = [pred_features[i] for i in new_boxes_idx]\n",
    "        self.add(new_boxes, new_scores, new_features)\n"
   ],
   "metadata": {
    "collapsed": false
   }
  },
  {
   "cell_type": "code",
   "execution_count": 9,
   "outputs": [],
   "source": [
    "val_sequences = MOT16Sequences('MOT16-reid', root_dir = osp.join(root_dir, 'data/MOT16'), vis_threshold=0.)"
   ],
   "metadata": {
    "collapsed": false
   }
  },
  {
   "cell_type": "code",
   "execution_count": 10,
   "outputs": [
    {
     "name": "stdout",
     "output_type": "stream",
     "text": [
      "Tracking: MOT16-02\n",
      "Tracks found: 367\n",
      "Runtime for MOT16-02: 6.4 s.\n",
      "Tracking: MOT16-05\n",
      "Tracks found: 464\n",
      "Runtime for MOT16-05: 1.8 s.\n",
      "Tracking: MOT16-09\n",
      "Tracks found: 98\n",
      "Runtime for MOT16-09: 1.1 s.\n",
      "Tracking: MOT16-11\n",
      "Tracks found: 292\n",
      "Runtime for MOT16-11: 2.5 s.\n",
      "Runtime for all sequences: 11.7 s.\n"
     ]
    },
    {
     "name": "stderr",
     "output_type": "stream",
     "text": [
      "C:\\Users\\yusuf\\anaconda3\\lib\\site-packages\\motmetrics\\mot.py:344: FutureWarning: The frame.append method is deprecated and will be removed from pandas in a future version. Use pandas.concat instead.\n",
      "  r = r.append(copy)\n",
      "C:\\Users\\yusuf\\anaconda3\\lib\\site-packages\\motmetrics\\mot.py:344: FutureWarning: The frame.append method is deprecated and will be removed from pandas in a future version. Use pandas.concat instead.\n",
      "  r = r.append(copy)\n",
      "C:\\Users\\yusuf\\anaconda3\\lib\\site-packages\\motmetrics\\mot.py:344: FutureWarning: The frame.append method is deprecated and will be removed from pandas in a future version. Use pandas.concat instead.\n",
      "  r = r.append(copy)\n",
      "C:\\Users\\yusuf\\anaconda3\\lib\\site-packages\\motmetrics\\mot.py:344: FutureWarning: The frame.append method is deprecated and will be removed from pandas in a future version. Use pandas.concat instead.\n",
      "  r = r.append(copy)\n"
     ]
    },
    {
     "name": "stdout",
     "output_type": "stream",
     "text": [
      "          IDF1   IDP   IDR  Rcll  Prcn  GT  MT  PT ML   FP    FN IDs   FM  MOTA  MOTP\n",
      "MOT16-02 40.5% 57.5% 31.3% 52.2% 96.1%  62  12  38 12  390  8873 203  210 49.1% 0.090\n",
      "MOT16-05 54.4% 64.4% 47.1% 68.8% 94.0% 133  54  67 12  305  2156 330  149 59.7% 0.142\n",
      "MOT16-09 49.9% 61.7% 41.9% 66.3% 97.7%  26  13  12  1   82  1793  77   76 63.3% 0.082\n",
      "MOT16-11 61.1% 67.4% 55.9% 80.2% 96.6%  75  44  24  7  266  1871 176   91 75.5% 0.083\n",
      "OVERALL  49.6% 62.3% 41.2% 63.5% 96.1% 296 123 141 32 1043 14693 786  526 59.0% 0.097\n"
     ]
    },
    {
     "data": {
      "text/plain": "              idf1       idp       idr    recall  precision  \\\nMOT16-02  0.405105  0.575262  0.312631  0.522469   0.961378   \nMOT16-05  0.544104  0.643506  0.471303  0.688304   0.939795   \nMOT16-09  0.499161  0.617322  0.418967  0.663286   0.977310   \nMOT16-11  0.611340  0.673988  0.559347  0.801717   0.966032   \nOVERALL   0.495843  0.623022  0.411784  0.635038   0.960803   \n\n          num_unique_objects  mostly_tracked  partially_tracked  mostly_lost  \\\nMOT16-02                  62              12                 38           12   \nMOT16-05                 133              54                 67           12   \nMOT16-09                  26              13                 12            1   \nMOT16-11                  75              44                 24            7   \nOVERALL                  296             123                141           32   \n\n          num_false_positives  num_misses  num_switches  num_fragmentations  \\\nMOT16-02                  390        8873           203                 210   \nMOT16-05                  305        2156           330                 149   \nMOT16-09                   82        1793            77                  76   \nMOT16-11                  266        1871           176                  91   \nOVERALL                  1043       14693           786                 526   \n\n              mota      motp  \nMOT16-02  0.490555  0.090340  \nMOT16-05  0.596501  0.142002  \nMOT16-09  0.633427  0.082336  \nMOT16-11  0.754875  0.082736  \nOVERALL   0.589607  0.096605  ",
      "text/html": "<div>\n<style scoped>\n    .dataframe tbody tr th:only-of-type {\n        vertical-align: middle;\n    }\n\n    .dataframe tbody tr th {\n        vertical-align: top;\n    }\n\n    .dataframe thead th {\n        text-align: right;\n    }\n</style>\n<table border=\"1\" class=\"dataframe\">\n  <thead>\n    <tr style=\"text-align: right;\">\n      <th></th>\n      <th>idf1</th>\n      <th>idp</th>\n      <th>idr</th>\n      <th>recall</th>\n      <th>precision</th>\n      <th>num_unique_objects</th>\n      <th>mostly_tracked</th>\n      <th>partially_tracked</th>\n      <th>mostly_lost</th>\n      <th>num_false_positives</th>\n      <th>num_misses</th>\n      <th>num_switches</th>\n      <th>num_fragmentations</th>\n      <th>mota</th>\n      <th>motp</th>\n    </tr>\n  </thead>\n  <tbody>\n    <tr>\n      <th>MOT16-02</th>\n      <td>0.405105</td>\n      <td>0.575262</td>\n      <td>0.312631</td>\n      <td>0.522469</td>\n      <td>0.961378</td>\n      <td>62</td>\n      <td>12</td>\n      <td>38</td>\n      <td>12</td>\n      <td>390</td>\n      <td>8873</td>\n      <td>203</td>\n      <td>210</td>\n      <td>0.490555</td>\n      <td>0.090340</td>\n    </tr>\n    <tr>\n      <th>MOT16-05</th>\n      <td>0.544104</td>\n      <td>0.643506</td>\n      <td>0.471303</td>\n      <td>0.688304</td>\n      <td>0.939795</td>\n      <td>133</td>\n      <td>54</td>\n      <td>67</td>\n      <td>12</td>\n      <td>305</td>\n      <td>2156</td>\n      <td>330</td>\n      <td>149</td>\n      <td>0.596501</td>\n      <td>0.142002</td>\n    </tr>\n    <tr>\n      <th>MOT16-09</th>\n      <td>0.499161</td>\n      <td>0.617322</td>\n      <td>0.418967</td>\n      <td>0.663286</td>\n      <td>0.977310</td>\n      <td>26</td>\n      <td>13</td>\n      <td>12</td>\n      <td>1</td>\n      <td>82</td>\n      <td>1793</td>\n      <td>77</td>\n      <td>76</td>\n      <td>0.633427</td>\n      <td>0.082336</td>\n    </tr>\n    <tr>\n      <th>MOT16-11</th>\n      <td>0.611340</td>\n      <td>0.673988</td>\n      <td>0.559347</td>\n      <td>0.801717</td>\n      <td>0.966032</td>\n      <td>75</td>\n      <td>44</td>\n      <td>24</td>\n      <td>7</td>\n      <td>266</td>\n      <td>1871</td>\n      <td>176</td>\n      <td>91</td>\n      <td>0.754875</td>\n      <td>0.082736</td>\n    </tr>\n    <tr>\n      <th>OVERALL</th>\n      <td>0.495843</td>\n      <td>0.623022</td>\n      <td>0.411784</td>\n      <td>0.635038</td>\n      <td>0.960803</td>\n      <td>296</td>\n      <td>123</td>\n      <td>141</td>\n      <td>32</td>\n      <td>1043</td>\n      <td>14693</td>\n      <td>786</td>\n      <td>526</td>\n      <td>0.589607</td>\n      <td>0.096605</td>\n    </tr>\n  </tbody>\n</table>\n</div>"
     },
     "execution_count": 10,
     "metadata": {},
     "output_type": "execute_result"
    }
   ],
   "source": [
    "tracker = ReIDHungarianTracker(None)\n",
    "run_tracker(val_sequences, db=train_db, tracker=tracker, output_dir=None)"
   ],
   "metadata": {
    "collapsed": false
   }
  },
  {
   "cell_type": "markdown",
   "source": [
    "## Exercise Part I - Long-Term ReID Tracker\n"
   ],
   "metadata": {
    "collapsed": false
   }
  },
  {
   "cell_type": "markdown",
   "source": [
    "The tracker above has an obvious limitation: whenever a track cannot be matched with the detections of a given frame the track will be killed. This means that if our detector misses an object in a single frame (due to e.g. occlusion), we will not be able to recover that track, and we will start a new one.\n",
    "\n",
    "To fix this issue, we would like to allow our tracker to maintain tracks that are not matched during data association. We will refer to these tracks as **inactive**. During data association, we will try to match the detected boxes for the current frame to both tracks that are active (i.e. tracks that we were able to match in the previous frame) as well as those that are inactive. Therefore, if a detector misses an object in a frame and the object reappears after a few frames, we will still be able to match it to its corresponding track, instead of creating a new one.\n",
    "\n",
    "In order to adapt our tracker to have this behavior, we will use the `inactive` attribute from the `track` class (see `tracker/tracker.py`. This attribute will be assigned an integer indicating for how many frames a track has remained unmatched. Whenever we are able to match the track `t`, we will set `t.inactive=0` and, naturally, when tracks are initialized, the class constructor sets `inactive=0`.\n",
    "\n",
    "Your job is to maintain the `inactive` attribute of all tracks being kept by tracker so that its value represents the number of frames for which the track has been unmatched. Additionally, we introduce a `patience` parameter. Whenever a track has been inactive for more than `inactive` frames. it will need to be killed.\n",
    "\n",
    "Results should approximately be around:\n",
    "\n",
    "```\n",
    "          IDF1   IDP   IDR  Rcll  Prcn  GT  MT  PT ML   FP    FN IDs   FM  MOTA  MOTP\n",
    "MOT16-02 45.9% 65.1% 35.4% 52.2% 96.1%  62  12  37 13  390  8873 130  210 49.4% 0.090\n",
    "MOT16-05 63.4% 75.0% 54.9% 68.8% 94.0% 133  54  67 12  305  2156 283  149 60.3% 0.142\n",
    "MOT16-09 52.5% 64.9% 44.1% 66.3% 97.7%  26  13  12  1   82  1793  49   76 63.9% 0.083\n",
    "MOT16-11 68.3% 75.3% 62.5% 80.2% 96.6%  75  44  24  7  266  1871 136   90 75.9% 0.083\n",
    "OVERALL  55.7% 70.0% 46.2% 63.5% 96.1% 296 123 140 33 1043 14693 598  525 59.4% 0.097\n",
    "```\n"
   ],
   "metadata": {
    "collapsed": false
   }
  },
  {
   "cell_type": "code",
   "execution_count": 11,
   "outputs": [],
   "source": [
    "class LongTermReIDHungarianTracker(ReIDHungarianTracker):\n",
    "    def __init__(self, patience, *args, **kwargs):\n",
    "        \"\"\" Add a patience parameter\"\"\"\n",
    "        self.patience=patience\n",
    "        super().__init__(*args, **kwargs)\n",
    "\n",
    "    def update_results(self):\n",
    "        \"\"\"Only store boxes for tracks that are active\"\"\"\n",
    "        for t in self.tracks:\n",
    "            if t.id not in self.results.keys():\n",
    "                self.results[t.id] = {}\n",
    "            if t.inactive == 0: # Only change\n",
    "                self.results[t.id][self.im_index] = np.concatenate([t.box.cpu().numpy(), np.array([t.score])])\n",
    "\n",
    "        self.im_index += 1\n",
    "\n",
    "    def update_tracks(self, row_idx, col_idx, distance, boxes, scores, pred_features):\n",
    "        track_ids = [t.id for t in self.tracks]\n",
    "\n",
    "        unmatched_track_ids = []\n",
    "        seen_track_ids = []\n",
    "        seen_box_idx = []\n",
    "        for track_idx, box_idx in zip(row_idx, col_idx):\n",
    "            costs = distance[track_idx, box_idx]\n",
    "            internal_track_id = track_ids[track_idx]\n",
    "            seen_track_ids.append(internal_track_id)\n",
    "            if costs == _UNMATCHED_COST:\n",
    "                unmatched_track_ids.append(internal_track_id)\n",
    "\n",
    "            else:\n",
    "                self.tracks[track_idx].box = boxes[box_idx]\n",
    "                self.tracks[track_idx].add_feature(pred_features[box_idx])\n",
    "\n",
    "                # Note: the track is matched, therefore, inactive is set to 0\n",
    "                self.tracks[track_idx].inactive=0\n",
    "                seen_box_idx.append(box_idx)\n",
    "\n",
    "\n",
    "        unseen_track_ids = set(track_ids) - set(seen_track_ids)\n",
    "        unmatched_track_ids.extend(list(unseen_track_ids))\n",
    "        ##################\n",
    "        ### TODO starts\n",
    "        ##################\n",
    "\n",
    "        # Update the `inactive` attribute for those tracks that have been\n",
    "        # not been matched. kill those for which the inactive parameter\n",
    "        # is > self.patience\n",
    "        for track in self.tracks:\n",
    "            if track.id in unseen_track_ids:\n",
    "                track.inactive += 1\n",
    "                if track.inactive > self.patience:\n",
    "                    self.tracks.remove(track)\n",
    "\n",
    "\n",
    "\n",
    "        ##################\n",
    "        ### TODO ends\n",
    "        ##################\n",
    "\n",
    "        new_boxes_idx = set(range(len(boxes))) - set(seen_box_idx)\n",
    "        new_boxes = [boxes[i] for i in new_boxes_idx]\n",
    "        new_scores = [scores[i] for i in new_boxes_idx]\n",
    "        new_features = [pred_features[i] for i in new_boxes_idx]\n",
    "        self.add(new_boxes, new_scores, new_features)"
   ],
   "metadata": {
    "collapsed": false
   }
  },
  {
   "cell_type": "code",
   "execution_count": 12,
   "outputs": [
    {
     "name": "stdout",
     "output_type": "stream",
     "text": [
      "Tracking: MOT16-02\n",
      "Tracks found: 207\n",
      "Runtime for MOT16-02: 7.4 s.\n",
      "Tracking: MOT16-05\n",
      "Tracks found: 354\n",
      "Runtime for MOT16-05: 2.1 s.\n",
      "Tracking: MOT16-09\n",
      "Tracks found: 64\n",
      "Runtime for MOT16-09: 1.3 s.\n",
      "Tracking: MOT16-11\n",
      "Tracks found: 217\n",
      "Runtime for MOT16-11: 3.0 s.\n",
      "Runtime for all sequences: 13.8 s.\n"
     ]
    },
    {
     "name": "stderr",
     "output_type": "stream",
     "text": [
      "C:\\Users\\yusuf\\anaconda3\\lib\\site-packages\\motmetrics\\mot.py:344: FutureWarning: The frame.append method is deprecated and will be removed from pandas in a future version. Use pandas.concat instead.\n",
      "  r = r.append(copy)\n",
      "C:\\Users\\yusuf\\anaconda3\\lib\\site-packages\\motmetrics\\mot.py:344: FutureWarning: The frame.append method is deprecated and will be removed from pandas in a future version. Use pandas.concat instead.\n",
      "  r = r.append(copy)\n",
      "C:\\Users\\yusuf\\anaconda3\\lib\\site-packages\\motmetrics\\mot.py:344: FutureWarning: The frame.append method is deprecated and will be removed from pandas in a future version. Use pandas.concat instead.\n",
      "  r = r.append(copy)\n",
      "C:\\Users\\yusuf\\anaconda3\\lib\\site-packages\\motmetrics\\mot.py:344: FutureWarning: The frame.append method is deprecated and will be removed from pandas in a future version. Use pandas.concat instead.\n",
      "  r = r.append(copy)\n"
     ]
    },
    {
     "name": "stdout",
     "output_type": "stream",
     "text": [
      "          IDF1   IDP   IDR  Rcll  Prcn  GT  MT  PT ML   FP    FN IDs   FM  MOTA  MOTP\n",
      "MOT16-02 45.9% 65.1% 35.5% 52.3% 96.1%  62  12  37 13  397  8857 130  208 49.5% 0.091\n",
      "MOT16-05 63.3% 74.6% 55.1% 68.9% 93.3% 133  54  67 12  341  2149 283  149 59.9% 0.142\n",
      "MOT16-09 52.6% 65.0% 44.2% 66.4% 97.6%  26  12  13  1   86  1789  48   78 63.9% 0.087\n",
      "MOT16-11 68.2% 74.9% 62.5% 80.2% 96.1%  75  44  24  7  305  1866 136   89 75.6% 0.083\n",
      "OVERALL  55.7% 69.8% 46.3% 63.6% 95.8% 296 122 141 33 1129 14661 597  524 59.3% 0.097\n"
     ]
    },
    {
     "data": {
      "text/plain": "              idf1       idp       idr    recall  precision  \\\nMOT16-02  0.458992  0.650825  0.354502  0.523330   0.960775   \nMOT16-05  0.633461  0.745547  0.550672  0.689316   0.933255   \nMOT16-09  0.526433  0.650193  0.442254  0.664038   0.976256   \nMOT16-11  0.681879  0.749460  0.625477  0.802247   0.961270   \nOVERALL   0.556922  0.697908  0.463325  0.635833   0.957758   \n\n          num_unique_objects  mostly_tracked  partially_tracked  mostly_lost  \\\nMOT16-02                  62              12                 37           13   \nMOT16-05                 133              54                 67           12   \nMOT16-09                  26              12                 13            1   \nMOT16-11                  75              44                 24            7   \nOVERALL                  296             122                141           33   \n\n          num_false_positives  num_misses  num_switches  num_fragmentations  \\\nMOT16-02                  397        8857           130                 208   \nMOT16-05                  341        2149           283                 149   \nMOT16-09                   86        1789            48                  78   \nMOT16-11                  305        1866           136                  89   \nOVERALL                  1129       14661           597                 524   \n\n              mota      motp  \nMOT16-02  0.494968  0.090509  \nMOT16-05  0.599104  0.142270  \nMOT16-09  0.638873  0.087220  \nMOT16-11  0.755511  0.082846  \nOVERALL   0.592961  0.097430  ",
      "text/html": "<div>\n<style scoped>\n    .dataframe tbody tr th:only-of-type {\n        vertical-align: middle;\n    }\n\n    .dataframe tbody tr th {\n        vertical-align: top;\n    }\n\n    .dataframe thead th {\n        text-align: right;\n    }\n</style>\n<table border=\"1\" class=\"dataframe\">\n  <thead>\n    <tr style=\"text-align: right;\">\n      <th></th>\n      <th>idf1</th>\n      <th>idp</th>\n      <th>idr</th>\n      <th>recall</th>\n      <th>precision</th>\n      <th>num_unique_objects</th>\n      <th>mostly_tracked</th>\n      <th>partially_tracked</th>\n      <th>mostly_lost</th>\n      <th>num_false_positives</th>\n      <th>num_misses</th>\n      <th>num_switches</th>\n      <th>num_fragmentations</th>\n      <th>mota</th>\n      <th>motp</th>\n    </tr>\n  </thead>\n  <tbody>\n    <tr>\n      <th>MOT16-02</th>\n      <td>0.458992</td>\n      <td>0.650825</td>\n      <td>0.354502</td>\n      <td>0.523330</td>\n      <td>0.960775</td>\n      <td>62</td>\n      <td>12</td>\n      <td>37</td>\n      <td>13</td>\n      <td>397</td>\n      <td>8857</td>\n      <td>130</td>\n      <td>208</td>\n      <td>0.494968</td>\n      <td>0.090509</td>\n    </tr>\n    <tr>\n      <th>MOT16-05</th>\n      <td>0.633461</td>\n      <td>0.745547</td>\n      <td>0.550672</td>\n      <td>0.689316</td>\n      <td>0.933255</td>\n      <td>133</td>\n      <td>54</td>\n      <td>67</td>\n      <td>12</td>\n      <td>341</td>\n      <td>2149</td>\n      <td>283</td>\n      <td>149</td>\n      <td>0.599104</td>\n      <td>0.142270</td>\n    </tr>\n    <tr>\n      <th>MOT16-09</th>\n      <td>0.526433</td>\n      <td>0.650193</td>\n      <td>0.442254</td>\n      <td>0.664038</td>\n      <td>0.976256</td>\n      <td>26</td>\n      <td>12</td>\n      <td>13</td>\n      <td>1</td>\n      <td>86</td>\n      <td>1789</td>\n      <td>48</td>\n      <td>78</td>\n      <td>0.638873</td>\n      <td>0.087220</td>\n    </tr>\n    <tr>\n      <th>MOT16-11</th>\n      <td>0.681879</td>\n      <td>0.749460</td>\n      <td>0.625477</td>\n      <td>0.802247</td>\n      <td>0.961270</td>\n      <td>75</td>\n      <td>44</td>\n      <td>24</td>\n      <td>7</td>\n      <td>305</td>\n      <td>1866</td>\n      <td>136</td>\n      <td>89</td>\n      <td>0.755511</td>\n      <td>0.082846</td>\n    </tr>\n    <tr>\n      <th>OVERALL</th>\n      <td>0.556922</td>\n      <td>0.697908</td>\n      <td>0.463325</td>\n      <td>0.635833</td>\n      <td>0.957758</td>\n      <td>296</td>\n      <td>122</td>\n      <td>141</td>\n      <td>33</td>\n      <td>1129</td>\n      <td>14661</td>\n      <td>597</td>\n      <td>524</td>\n      <td>0.592961</td>\n      <td>0.097430</td>\n    </tr>\n  </tbody>\n</table>\n</div>"
     },
     "execution_count": 12,
     "metadata": {},
     "output_type": "execute_result"
    }
   ],
   "source": [
    "tracker = LongTermReIDHungarianTracker(patience=20, obj_detect=None)\n",
    "run_tracker(val_sequences, db=train_db, tracker=tracker, output_dir=None)"
   ],
   "metadata": {
    "collapsed": false
   }
  },
  {
   "cell_type": "markdown",
   "source": [
    "## Exercise Part II - Building a tracker based on Neural Message Passing\n",
    "\n",
    "Our ``LongTermReIDHungarianTracker`` is still limited when compared to current modern trackers.\n",
    "\n",
    "Firstly, it relies solely on appearance to predict similarity scores between objectes. This can be problematic whenever appearance alone may not discriminative, and it'd be best to also take into account object position and size attributes. Secondly, our tracker can only account for pairwise similarities among objects. Ideally, we would like it to also consider higher-order information.\n",
    "\n",
    "To address these limitations. We will now build a tracker that will combine both apperance and position information with a Message Passing Neural Network, inspired by the approach presented in [Learning a Neural Solver for Multiple Object Tracking, CVPR 2020](https://arxiv.org/abs/1912.07515)\n",
    "\n",
    "The overall idea will be to build, for every tracking step, a bipartite graph containing two sets of nodes: past tracks, and detections in the current frame. We will initialize node features with ReID embeddings, and edge features with relative position features and ReID distance. We will use an MPN to refine these edge embeddings. The learning task will be to classify the edge embeddings in this graph, which is equivalent to predicting the entries of our data association similarity matrix.\n"
   ],
   "metadata": {
    "collapsed": false
   }
  },
  {
   "cell_type": "markdown",
   "source": [
    "### Building an MPN for Bipartite Graphs\n",
    "\n",
    "We will first build a Neural Message Passing layer based on the Graph Networks framework introduced in [Relational inductive biases, deep learning, and graph networks, arXiv 2020](https://arxiv.org/abs/1806.01261), as explained in the *A More General Framework* slides of [Lecture 5](https://youtu.be/BR3Y5bAz5Dw) (slides 70 to 75).\n",
    "\n",
    "We will be using a bipartite graph, i.e., we will have two sets of nodes $A$ (past tracks), and $B$ (detections), and our set of edges will be $A\\times B$. That is, we will connect every pair of past tracks and detections.\n",
    "\n",
    "We will have initial node features (i.e. reid embeddings) matrices: $X_A$ and $X_B$ and an initial edge features tensor $E$.\n",
    "\n",
    "$X_A$ and $X_B$ have shape $|A|\\times \\text{node_dim}$ and $|B|\\times \\text{node_dim}$, respectively.\n",
    "\n",
    "$E$ has shape $|A| \\times |B| \\times \\text{edge_dim}$. Its $(i, j)$ entry contains the edge features of node $i$ in $A$ and node $j$ in $B$.\n",
    "\n",
    "With the given layer, we will produce new node feature matrices $X_A'$ and $X_B'$ and edge features $E'$ with the same dimensions.\n",
    "Please refer to the formulas in the slides and figure how to apply them in this setting.\n",
    "\n",
    "You are asked to implement both the node and edge update steps in the class below\n",
    "\n",
    "**NOTE 1**: Working with a bipartite graph allows us to vectorize all operations in the formulas in a straightforward manner (keep in mind that we store edge features in a matrix). Given a node in $A$, it is connected to all nodes in $B$.\n",
    "\n",
    "**NOTE 2**: You do not need to care about batching several graphs. This implementation will only work with a single graph at a time."
   ],
   "metadata": {
    "collapsed": false
   }
  },
  {
   "cell_type": "code",
   "execution_count": 13,
   "outputs": [],
   "source": [
    "from torch import nn\n",
    "\n",
    "class BipartiteNeuralMessagePassingLayer(nn.Module):\n",
    "    def __init__(self, node_dim, edge_dim, dropout=0.):\n",
    "        super().__init__()\n",
    "\n",
    "        edge_in_dim  = 2*node_dim + 2*edge_dim # 2*edge_dim since we always concatenate initial edge features\n",
    "        self.edge_mlp = nn.Sequential(*[nn.Linear(edge_in_dim, edge_dim), nn.ReLU(), nn.Dropout(dropout),\n",
    "                                    nn.Linear(edge_dim, edge_dim), nn.ReLU(), nn.Dropout(dropout)])\n",
    "\n",
    "        node_in_dim  = node_dim + edge_dim\n",
    "        self.node_mlp = nn.Sequential(*[nn.Linear(node_in_dim, node_dim), nn.ReLU(), nn.Dropout(dropout),\n",
    "                                        nn.Linear(node_dim, node_dim), nn.ReLU(), nn.Dropout(dropout)])\n",
    "\n",
    "    def edge_update(self, edge_embeds, nodes_a_embeds, nodes_b_embeds):\n",
    "        \"\"\"\n",
    "        Node-to-edge updates, as descibed in slide 71, lecture 5.\n",
    "        Args:\n",
    "            edge_embeds: torch.Tensor with shape (|A|, |B|, 2 x edge_dim)\n",
    "            nodes_a_embeds: torch.Tensor with shape (|A|, node_dim)\n",
    "            nodes_a_embeds: torch.Tensor with shape (|B|, node_dim)\n",
    "\n",
    "        returns:\n",
    "            updated_edge_feats = torch.Tensor with shape (|A|, |B|, edge_dim)\n",
    "        \"\"\"\n",
    "\n",
    "        n_nodes_a, n_nodes_b, _  = edge_embeds.shape\n",
    "\n",
    "        ########################\n",
    "        #### TODO starts\n",
    "        ########################\n",
    "        _, node_dim = nodes_a_embeds.shape\n",
    "        #nodes_a_embeds = nodes_a_embeds.repeat(n_nodes_b,1).reshape(n_nodes_a,n_nodes_b,node_dim ) # a ,b , node_dim\n",
    "        #nodes_b_embeds = nodes_b_embeds.repeat(n_nodes_a,1).reshape(n_nodes_a,n_nodes_b,node_dim ) # a ,b, node_dim\n",
    "        #edge_in = torch.cat( (nodes_a_embeds, nodes_b_embeds, edge_embeds) , axis=2) # edge a,b, 2*c\n",
    "\n",
    "        nodes_a_embeds_repeated =  nodes_a_embeds.reshape((n_nodes_a, 1, node_dim)).repeat_interleave(n_nodes_b, axis = 1)  # |A|, |B|, node_dim\n",
    "        nodes_b_embeds_repeated =  nodes_b_embeds.reshape((1, n_nodes_b, node_dim)).repeat_interleave(n_nodes_a, axis = 0)  # |A|, |B|, node_dim\n",
    "        edge_in = torch.cat((nodes_a_embeds_repeated, edge_embeds, nodes_b_embeds_repeated), 2) # |A|, |B|, 2*edge_dim + 2*node_dim\n",
    "        ########################\n",
    "        #### TODO ends\n",
    "        ########################\n",
    "\n",
    "\n",
    "        return self.edge_mlp(edge_in)\n",
    "\n",
    "    def node_update(self, edge_embeds, nodes_a_embeds, nodes_b_embeds):\n",
    "        \"\"\"\n",
    "        Edge-to-node updates, as descibed in slide 75, lecture 5.\n",
    "\n",
    "        Args:\n",
    "            edge_embeds: torch.Tensor with shape (|A|, |B|, edge_dim)\n",
    "            nodes_a_embeds: torch.Tensor with shape (|A|, node_dim)\n",
    "            nodes_b_embeds: torch.Tensor with shape (|B|, node_dim)\n",
    "\n",
    "        returns:\n",
    "            tuple(\n",
    "                updated_nodes_a_embeds: torch.Tensor with shape (|A|, node_dim),\n",
    "                updated_nodes_b_embeds: torch.Tensor with shape (|B|, node_dim)\n",
    "                )\n",
    "        \"\"\"\n",
    "\n",
    "        ########################\n",
    "        #### TODO starts\n",
    "        ########################\n",
    "\n",
    "        # NOTE: Use 'sum' as aggregation function\n",
    "\n",
    "        nodes_a, nodes_b, edge_dim = edge_embeds.shape\n",
    "        a_edges = torch.sum(edge_embeds, 1).reshape((nodes_a, edge_dim)) # b , edge\n",
    "        b_edges = torch.sum(edge_embeds, 0).reshape((nodes_b, edge_dim)) # a , edge\n",
    "        nodes_a_in = torch.cat((nodes_a_embeds, a_edges), 1)  #  a, edge + node\n",
    "        nodes_b_in = torch.cat((nodes_b_embeds, b_edges), 1) # b, edge + node\n",
    "\n",
    "        ########################\n",
    "        #### TODO ends\n",
    "        ########################\n",
    "\n",
    "        nodes_a = self.node_mlp(nodes_a_in)\n",
    "        nodes_b = self.node_mlp(nodes_b_in)\n",
    "\n",
    "        return nodes_a, nodes_b\n",
    "\n",
    "    def forward(self, edge_embeds, nodes_a_embeds, nodes_b_embeds):\n",
    "        edge_embeds_latent = self.edge_update(edge_embeds, nodes_a_embeds, nodes_b_embeds)\n",
    "        nodes_a_latent, nodes_b_latent = self.node_update(edge_embeds_latent, nodes_a_embeds, nodes_b_embeds)\n",
    "\n",
    "        return edge_embeds_latent, nodes_a_latent, nodes_b_latent"
   ],
   "metadata": {
    "collapsed": false
   }
  },
  {
   "cell_type": "markdown",
   "source": [
    "## Building the entire network to predict similarities\n",
    "We now build the network that generates initial node and edge features, performs neural message passing, and classifies edges in order to produce the final costs that we will use for data association.\n",
    "\n",
    "You need to implement the method that computes the initial edge features. You can follow [1] and, given a two bounding boxes $(x_i, y_i, w_i, h_i)$ and  $(x_j, y_j, w_j, h_j)$ and timestamps $t_i$ and $t_j$, compute an initial 5-dimensional edge feature vector as:\n",
    "$$ E_{(i, j)} = \\left(\\frac{2(x_j - x_i)}{h_i + h_j}, \\frac{2(y_j - y_i)}{h_i + h_j}, \\log{\\frac{h_i}{h_j}}, \\log{\\frac{w_i}{w_j}}, t_j - t_i \\right )$$\n",
    "\n",
    "\n",
    "Feel free to engineer your own features (e.g. use IoU, etc.)"
   ],
   "metadata": {
    "collapsed": false
   }
  },
  {
   "cell_type": "code",
   "execution_count": 14,
   "outputs": [],
   "source": [
    "from torch.nn import functional as F\n",
    "class AssignmentSimilarityNet(nn.Module):\n",
    "    def __init__(self, reid_network, node_dim, edge_dim, reid_dim, edges_in_dim, num_steps, dropout=0.):\n",
    "        super().__init__()\n",
    "        self.reid_network = reid_network\n",
    "        self.graph_net = BipartiteNeuralMessagePassingLayer(node_dim=node_dim, edge_dim=edge_dim, dropout=dropout)\n",
    "        self.num_steps = num_steps\n",
    "        self.cnn_linear = nn.Linear(reid_dim, node_dim)\n",
    "        self.edge_in_mlp = nn.Sequential(*[nn.Linear(edges_in_dim, edge_dim), nn.ReLU(), nn.Dropout(dropout), nn.Linear(edge_dim, edge_dim), nn.ReLU(),nn.Dropout(dropout)])\n",
    "        self.classifier = nn.Sequential(*[nn.Linear(edge_dim, edge_dim), nn.ReLU(), nn.Linear(edge_dim, 1)])\n",
    "\n",
    "\n",
    "    def compute_edge_feats(self, track_coords, current_coords, track_t, curr_t):\n",
    "        \"\"\"\n",
    "        Computes initial edge feature tensor\n",
    "\n",
    "        Args:\n",
    "            track_coords: track's frame box coordinates, given by top-left and bottom-right coordinates\n",
    "                          torch.Tensor with shape (num_tracks, 4)\n",
    "            current_coords: current frame box coordinates, given by top-left and bottom-right coordinates\n",
    "                            has shape (num_boxes, 4)\n",
    "\n",
    "            track_t: track's timestamps, torch.Tensor with with shape (num_tracks, )\n",
    "            curr_t: current frame's timestamps, torch.Tensor withwith shape (num_boxes,)\n",
    "\n",
    "\n",
    "        Returns:\n",
    "            tensor with shape (num_trakcs, num_boxes, 5) containing pairwise\n",
    "            position and time difference features\n",
    "        \"\"\"\n",
    "\n",
    "        ########################\n",
    "        #### TODO starts\n",
    "        ########################\n",
    "\n",
    "        # NOTE 1: we recommend you to use box centers to compute distances\n",
    "        # in the x and y coordinates.\n",
    "\n",
    "        # NOTE 2: Check out the  code inside train_one_epoch function and\n",
    "        # LongTrackTrainingDataset class a few cells below to debug this\n",
    "        def get_iou(ground_truth, pred):\n",
    "            # coordinates of the area of intersection.\n",
    "            ix1 = np.maximum(ground_truth[0], pred[0])\n",
    "            iy1 = np.maximum(ground_truth[1], pred[1])\n",
    "            ix2 = np.minimum(ground_truth[2], pred[2])\n",
    "            iy2 = np.minimum(ground_truth[3], pred[3])\n",
    "\n",
    "            # Intersection height and width.\n",
    "            i_height = np.maximum(iy2 - iy1 + 1, np.array(0.))\n",
    "            i_width = np.maximum(ix2 - ix1 + 1, np.array(0.))\n",
    "\n",
    "            area_of_intersection = i_height * i_width\n",
    "\n",
    "            # Ground Truth dimensions.\n",
    "            gt_height = ground_truth[3] - ground_truth[1] + 1\n",
    "            gt_width = ground_truth[2] - ground_truth[0] + 1\n",
    "\n",
    "            # Prediction dimensions.\n",
    "            pd_height = pred[3] - pred[1] + 1\n",
    "            pd_width = pred[2] - pred[0] + 1\n",
    "\n",
    "            area_of_union = gt_height * gt_width + pd_height * pd_width - area_of_intersection\n",
    "\n",
    "            iou = area_of_intersection / area_of_union\n",
    "\n",
    "            return iou\n",
    "        n_a, _ = track_coords.shape\n",
    "        n_b, _ = current_coords.shape\n",
    "        edge_feats = torch.zeros((n_a, n_b, 6))\n",
    "        track_coords = track_coords.reshape((n_a, 1, 4)).repeat_interleave(n_b, axis=1)  # Making it (n_a, n_b, 4)\n",
    "        current_coords = current_coords.reshape((1, n_b, 4)).repeat_interleave(n_a, axis=0)  # Making it (n_a, n_b, 4)\n",
    "        track_t = track_t.reshape((n_a, 1, 1)).repeat_interleave(n_b, axis=1)  # Making it (n_a, n_b, 1)\n",
    "        curr_t = curr_t.reshape((1, n_b, 1)).repeat_interleave(n_a, axis=0)  # Making it (n_a, n_b, 1)\n",
    "\n",
    "        def get_center(x1, x2):\n",
    "            return (x1 + x2) / 2\n",
    "\n",
    "        c_x = get_center(current_coords[:, :, 0], current_coords[:, :, 2])  # Mean X\n",
    "        c_y = get_center(current_coords[:, :, 1], current_coords[:, :, 3])  # Mean Y\n",
    "        c_width = current_coords[:, :, 2] - current_coords[:, :, 0]  # width\n",
    "        c_height = current_coords[:, :, 3] - current_coords[:, :, 1]  # height\n",
    "\n",
    "        t_x = get_center(track_coords[:, :, 0], track_coords[:, :, 2])  # Mean X\n",
    "        t_y = get_center(track_coords[:, :, 1], track_coords[:, :, 3])  # Mean Y\n",
    "        t_width = track_coords[:, :, 2] - track_coords[:, :, 0]  # width\n",
    "        t_height = track_coords[:, :, 3] - track_coords[:, :, 1]  # height\n",
    "\n",
    "        edge_feats[:, :, 0] = 2 * (c_x - t_x) / (c_height + t_height)\n",
    "        edge_feats[:, :, 1] = 2 * (c_y - t_y) / (c_height + t_height)\n",
    "        edge_feats[:, :, 2] = torch.log(c_height / t_height)\n",
    "        edge_feats[:, :, 3] = torch.log(c_width / t_width)\n",
    "        edge_feats[:, :, 4] = curr_t[:, :, 0] - track_t[:, :, 0]\n",
    "        edge_feats[:, :, 5] = torch.tensor(\n",
    "            [get_iou(c, t) for c, t in zip(current_coords.reshape(-1, 4).to('cpu'), track_coords.reshape(-1, 4).to('cpu'))]).reshape(n_a, n_b)\n",
    "\n",
    "\n",
    "\n",
    "\n",
    "        ########################\n",
    "        #### TODO ends\n",
    "        ########################\n",
    "\n",
    "        return edge_feats # has shape (num_trakcs, num_boxes, 5)\n",
    "\n",
    "\n",
    "    def forward(self, track_app, current_app, track_coords, current_coords, track_t, curr_t):\n",
    "        \"\"\"\n",
    "        Args:\n",
    "            track_app: track's reid embeddings, torch.Tensor with shape (num_tracks, 512)\n",
    "            current_app: current frame detections' reid embeddings, torch.Tensor with shape (num_boxes, 512)\n",
    "            track_coords: track's frame box coordinates, given by top-left and bottom-right coordinates\n",
    "                          torch.Tensor with shape (num_tracks, 4)\n",
    "            current_coords: current frame box coordinates, given by top-left and bottom-right coordinates\n",
    "                            has shape (num_boxes, 4)\n",
    "\n",
    "            track_t: track's timestamps, torch.Tensor with with shape (num_tracks, )\n",
    "            curr_t: current frame's timestamps, torch.Tensor withwith shape (num_boxes,)\n",
    "\n",
    "        Returns:\n",
    "            classified edges: torch.Tensor with shape (num_steps, num_tracks, num_boxes),\n",
    "                             containing at entry (step, i, j) the unnormalized probability that track i and\n",
    "                             detection j are a match, according to the classifier at the given neural message passing step\n",
    "        \"\"\"\n",
    "\n",
    "        # Get initial edge embeddings\n",
    "        dist_reid =  cosine_distance(track_app, current_app).to(device)\n",
    "        pos_edge_feats = self.compute_edge_feats(track_coords, current_coords, track_t, curr_t).to(device)\n",
    "\n",
    "        edge_feats = torch.cat((pos_edge_feats, dist_reid.unsqueeze(-1)), dim=-1)\n",
    "        edge_embeds = self.edge_in_mlp(edge_feats)\n",
    "        initial_edge_embeds = edge_embeds.clone()\n",
    "\n",
    "        # Get initial node embeddings, reduce dimensionality from 512 to node_dim\n",
    "        track_embeds = F.relu(self.cnn_linear(track_app))\n",
    "        curr_embeds =F.relu(self.cnn_linear(current_app))\n",
    "\n",
    "        classified_edges = []\n",
    "        for _ in range(self.num_steps):\n",
    "            edge_embeds = torch.cat((edge_embeds, initial_edge_embeds), dim=-1)\n",
    "            edge_embeds, track_embeds, curr_embeds = self.graph_net(edge_embeds=edge_embeds,\n",
    "                                                                    nodes_a_embeds=track_embeds,\n",
    "                                                                    nodes_b_embeds=curr_embeds)\n",
    "\n",
    "            classified_edges.append(self.classifier(edge_embeds))\n",
    "\n",
    "        return torch.stack(classified_edges).squeeze(-1)"
   ],
   "metadata": {
    "collapsed": false
   }
  },
  {
   "cell_type": "markdown",
   "source": [
    "## Putting everything together"
   ],
   "metadata": {
    "collapsed": false
   }
  },
  {
   "cell_type": "markdown",
   "source": [
    "Finally, we incorporate our ``AssignmentSimilarityNet`` into our tracker. We can keep everything as in ``LongTermReIDHungarianTracker`` except for the distance computation, which is now directly obtained via a forward pass through AssignmentSimilarityNet."
   ],
   "metadata": {
    "collapsed": false
   }
  },
  {
   "cell_type": "code",
   "execution_count": 15,
   "outputs": [],
   "source": [
    "_UNMATCHED_COST=255\n",
    "class MPNTracker(LongTermReIDHungarianTracker):\n",
    "    def __init__(self, assign_net, *args, **kwargs):\n",
    "        self.assign_net = assign_net\n",
    "        super().__init__(*args, **kwargs)\n",
    "\n",
    "    def data_association(self, boxes, scores, pred_features):\n",
    "        if self.tracks:\n",
    "            track_boxes = torch.stack([t.box for t in self.tracks], axis=0).cuda()\n",
    "            track_features = torch.stack([t.get_feature() for t in self.tracks], axis=0).cuda()\n",
    "\n",
    "            # Hacky way to recover the timestamps of boxes and tracks\n",
    "            curr_t = self.im_index * torch.ones((pred_features.shape[0],)).cuda()\n",
    "            track_t = torch.as_tensor([self.im_index - t.inactive - 1 for t in self.tracks]).cuda()\n",
    "\n",
    "            ########################\n",
    "            #### TODO starts\n",
    "            ########################\n",
    "\n",
    "            # Do a forward pass through self.assign_net to obtain our costs.\n",
    "            # Note: self.assign_net will return unnormalized probabilities.\n",
    "            # Make sure to apply the sigmoid function to them!\n",
    "\n",
    "            pred_sim = self.assign_net(track_features.to(device), pred_features.to(device), track_boxes, boxes.to(device), track_t, curr_t)\n",
    "            pred_sim = torch.sigmoid(pred_sim).detach().cpu()\n",
    "            ########################\n",
    "            #### TODO ends\n",
    "            ########################\n",
    "\n",
    "            pred_sim = pred_sim[-1]  # Use predictions at last message passing step\n",
    "            distance = (1- pred_sim)\n",
    "\n",
    "            # Do not allow mataches when sim < 0.5, to avoid low-confident associations\n",
    "            distance = np.where(pred_sim < 0.5, _UNMATCHED_COST, distance)\n",
    "\n",
    "            # Perform Hungarian matching.\n",
    "            row_idx, col_idx = linear_assignment(distance)\n",
    "            self.update_tracks(row_idx, col_idx, distance, boxes, scores, pred_features)\n",
    "\n",
    "\n",
    "        else:\n",
    "            # No tracks exist.\n",
    "            self.add(boxes, scores, pred_features)"
   ],
   "metadata": {
    "collapsed": false
   }
  },
  {
   "cell_type": "markdown",
   "source": [
    "## Training and evaluating our model\n",
    "\n",
    "We provide all boilerplate code for training our neural message passing based\n",
    "tracker, as well as evaluating.\n",
    "\n",
    "Under the hood, we are sampling frames randomly from our training sequences, and then sampling boxes from past frames as past_tracks to generate our\n",
    "training\n",
    "data. Check out `LongTrackTrainingDataset` for details.\n",
    "\n",
    "We train the model with a weighted cross-entropy loss\n",
    "to account for the class imbalance. Check out `train_one_epoch` if you're\n",
    "interested.\n",
    "\n",
    "Since the data is unbalanced, we add a weight $w$ for the positive samples in the binary cross entropy loss.\n",
    "$$ \\sum_{{i,j}} w \\cdot y_{i,j} \\log\\left(\\hat{y_{i,j}} \\right) + \\left(1-y_{i,j}\\right)\\log\\left(1- \\hat{y_{i,j}}\\right), $$\n",
    "where $$y_{i,j} \\in\\{ 0,1\\}$$ is one, if the edge is active in the training data and zero, otherwise.\n",
    "The variable $$\\hat{y_{i,j}} \\in[0,1]$$ denotes the learned output probability of the edge being active, which is later used for classification.\n",
    "\n",
    "\n",
    "No need to write any code from your side here!\n"
   ],
   "metadata": {
    "collapsed": false
   }
  },
  {
   "cell_type": "code",
   "execution_count": 16,
   "outputs": [],
   "source": [
    "from gnn.dataset import LongTrackTrainingDataset\n",
    "from torch.utils.data import DataLoader\n",
    "from gnn.trainer import train_one_epoch\n",
    "\n",
    "MAX_PATIENCE = 20\n",
    "MAX_EPOCHS = 15\n",
    "EVAL_FREQ = 1\n",
    "\n",
    "\n",
    "# Define our model, and init\n",
    "assign_net = AssignmentSimilarityNet(reid_network=None, # Not needed since we work with precomputed features\n",
    "                                     node_dim=32,\n",
    "                                     edge_dim=64,\n",
    "                                     reid_dim=512,\n",
    "                                     edges_in_dim=7,\n",
    "                                     num_steps=10).cuda()\n",
    "\n",
    "# We only keep two sequences for validation\n",
    "dataset = LongTrackTrainingDataset(dataset='MOT16-train_wo_val2',\n",
    "                                   db=train_db,\n",
    "                                   root_dir= osp.join(root_dir, 'data/MOT16'),\n",
    "                                   max_past_frames = MAX_PATIENCE,\n",
    "                                   vis_threshold=0.25)\n",
    "\n",
    "data_loader = DataLoader(dataset, batch_size=8, collate_fn = lambda x: x,\n",
    "                         shuffle=True, num_workers=0, drop_last=True)\n",
    "device = torch.device('cuda')\n",
    "optimizer = torch.optim.Adam(assign_net.parameters(), lr=0.001)\n",
    "scheduler = torch.optim.lr_scheduler.StepLR(optimizer, step_size=5)"
   ],
   "metadata": {
    "collapsed": false
   }
  },
  {
   "cell_type": "markdown",
   "source": [
    "We only leave 2 sequences for validation in order to maximize\n",
    "the amount of training data. For your convenience, here are the\n",
    " LongTermReIDTracker results on them. Your validation IDF1 scores should show an improvement over them.\n",
    "```\n",
    "\n",
    "          IDF1   IDP   IDR  Rcll  Prcn  GT MT PT ML  FP    FN IDs   FM  MOTA  MOTP\n",
    "MOT16-02 45.9% 65.1% 35.4% 52.2% 96.1%  62 12 37 13 390  8873 130  210 49.4% 0.090\n",
    "MOT16-11 68.3% 75.3% 62.5% 80.2% 96.6%  75 44 24  7 266  1871 136   90 75.9% 0.083\n",
    "OVERALL  54.3% 69.6% 44.5% 61.7% 96.3% 137 56 61 20 656 10744 266  300 58.4% 0.087\n",
    "```\n",
    "\n"
   ],
   "metadata": {
    "collapsed": false
   }
  },
  {
   "cell_type": "markdown",
   "source": [
    "Let's start training!\n",
    "\n",
    "Note that we have observed quite a lot of noise in validation scores among epochs and runs. That is due to the small size of our training and validation sets. Therefore, we perform early stopping to obtain the best-performing model on validation. In addition, changing the experiment seed and/ or relaunching the training might help if you suspect noise influencing your scores."
   ],
   "metadata": {
    "collapsed": false
   }
  },
  {
   "cell_type": "code",
   "execution_count": 17,
   "outputs": [
    {
     "name": "stdout",
     "output_type": "stream",
     "text": [
      "-------- EPOC H  1 --------\n"
     ]
    },
    {
     "name": "stderr",
     "output_type": "stream",
     "text": [
      "100it [06:26,  4.04s/it]"
     ]
    },
    {
     "name": "stdout",
     "output_type": "stream",
     "text": [
      "Iter 100. Loss: 0.583. Accuracy: 0.958. Recall: 0.739. Precision: 0.601\n"
     ]
    },
    {
     "name": "stderr",
     "output_type": "stream",
     "text": [
      "200it [13:07,  4.93s/it]"
     ]
    },
    {
     "name": "stdout",
     "output_type": "stream",
     "text": [
      "Iter 200. Loss: 0.065. Accuracy: 0.993. Recall: 0.989. Precision: 0.918\n"
     ]
    },
    {
     "name": "stderr",
     "output_type": "stream",
     "text": [
      "300it [19:42,  4.04s/it]"
     ]
    },
    {
     "name": "stdout",
     "output_type": "stream",
     "text": [
      "Iter 300. Loss: 0.042. Accuracy: 0.997. Recall: 0.994. Precision: 0.958\n"
     ]
    },
    {
     "name": "stderr",
     "output_type": "stream",
     "text": [
      "400it [26:01,  4.11s/it]"
     ]
    },
    {
     "name": "stdout",
     "output_type": "stream",
     "text": [
      "Iter 400. Loss: 0.029. Accuracy: 0.998. Recall: 0.996. Precision: 0.981\n"
     ]
    },
    {
     "name": "stderr",
     "output_type": "stream",
     "text": [
      "476it [31:03,  3.91s/it]\n"
     ]
    },
    {
     "name": "stdout",
     "output_type": "stream",
     "text": [
      "Tracking: MOT16-02\n",
      "Tracks found: 92\n",
      "Runtime for MOT16-02: 116.2 s.\n",
      "Tracking: MOT16-11\n",
      "Tracks found: 76\n",
      "Runtime for MOT16-11: 47.0 s.\n",
      "Runtime for all sequences: 163.2 s.\n"
     ]
    },
    {
     "name": "stderr",
     "output_type": "stream",
     "text": [
      "C:\\Users\\yusuf\\anaconda3\\lib\\site-packages\\motmetrics\\mot.py:344: FutureWarning: The frame.append method is deprecated and will be removed from pandas in a future version. Use pandas.concat instead.\n",
      "  r = r.append(copy)\n",
      "C:\\Users\\yusuf\\anaconda3\\lib\\site-packages\\motmetrics\\mot.py:344: FutureWarning: The frame.append method is deprecated and will be removed from pandas in a future version. Use pandas.concat instead.\n",
      "  r = r.append(copy)\n"
     ]
    },
    {
     "name": "stdout",
     "output_type": "stream",
     "text": [
      "          IDF1   IDP   IDR  Rcll  Prcn  GT MT PT ML  FP    FN IDs   FM  MOTA  MOTP\n",
      "MOT16-02 45.3% 64.2% 34.9% 52.3% 96.1%  62 11 38 13 393  8865 103  224 49.6% 0.095\n",
      "MOT16-11 69.2% 76.2% 63.3% 80.2% 96.6%  75 44 24  7 270  1868  44   88 76.9% 0.083\n",
      "OVERALL  54.3% 69.5% 44.5% 61.7% 96.3% 137 55 62 20 663 10733 147  312 58.8% 0.090\n",
      "-------- EPOC H  2 --------\n"
     ]
    },
    {
     "name": "stderr",
     "output_type": "stream",
     "text": [
      "100it [02:33,  1.65s/it]"
     ]
    },
    {
     "name": "stdout",
     "output_type": "stream",
     "text": [
      "Iter 100. Loss: 0.015. Accuracy: 0.999. Recall: 0.998. Precision: 0.989\n"
     ]
    },
    {
     "name": "stderr",
     "output_type": "stream",
     "text": [
      "200it [05:09,  1.35s/it]"
     ]
    },
    {
     "name": "stdout",
     "output_type": "stream",
     "text": [
      "Iter 200. Loss: 0.017. Accuracy: 0.999. Recall: 0.998. Precision: 0.988\n"
     ]
    },
    {
     "name": "stderr",
     "output_type": "stream",
     "text": [
      "300it [07:39,  1.67s/it]"
     ]
    },
    {
     "name": "stdout",
     "output_type": "stream",
     "text": [
      "Iter 300. Loss: 0.014. Accuracy: 0.999. Recall: 0.999. Precision: 0.988\n"
     ]
    },
    {
     "name": "stderr",
     "output_type": "stream",
     "text": [
      "400it [10:25,  1.35s/it]"
     ]
    },
    {
     "name": "stdout",
     "output_type": "stream",
     "text": [
      "Iter 400. Loss: 0.019. Accuracy: 0.998. Recall: 0.998. Precision: 0.985\n"
     ]
    },
    {
     "name": "stderr",
     "output_type": "stream",
     "text": [
      "476it [12:32,  1.58s/it]\n"
     ]
    },
    {
     "name": "stdout",
     "output_type": "stream",
     "text": [
      "Tracking: MOT16-02\n",
      "Tracks found: 67\n",
      "Runtime for MOT16-02: 79.2 s.\n",
      "Tracking: MOT16-11\n",
      "Tracks found: 71\n",
      "Runtime for MOT16-11: 47.0 s.\n",
      "Runtime for all sequences: 126.2 s.\n"
     ]
    },
    {
     "name": "stderr",
     "output_type": "stream",
     "text": [
      "C:\\Users\\yusuf\\anaconda3\\lib\\site-packages\\motmetrics\\mot.py:344: FutureWarning: The frame.append method is deprecated and will be removed from pandas in a future version. Use pandas.concat instead.\n",
      "  r = r.append(copy)\n",
      "C:\\Users\\yusuf\\anaconda3\\lib\\site-packages\\motmetrics\\mot.py:344: FutureWarning: The frame.append method is deprecated and will be removed from pandas in a future version. Use pandas.concat instead.\n",
      "  r = r.append(copy)\n"
     ]
    },
    {
     "name": "stdout",
     "output_type": "stream",
     "text": [
      "          IDF1   IDP   IDR  Rcll  Prcn  GT MT PT ML  FP    FN IDs   FM  MOTA  MOTP\n",
      "MOT16-02 43.9% 62.3% 33.9% 52.3% 96.1%  62 11 38 13 394  8867 103  223 49.6% 0.095\n",
      "MOT16-11 68.1% 75.1% 62.3% 80.2% 96.6%  75 44 24  7 268  1868  43   88 76.9% 0.083\n",
      "OVERALL  53.0% 67.9% 43.5% 61.7% 96.3% 137 55 62 20 662 10735 146  311 58.8% 0.090\n",
      "-------- EPOC H  3 --------\n"
     ]
    },
    {
     "name": "stderr",
     "output_type": "stream",
     "text": [
      "100it [02:53,  1.82s/it]"
     ]
    },
    {
     "name": "stdout",
     "output_type": "stream",
     "text": [
      "Iter 100. Loss: 0.013. Accuracy: 0.999. Recall: 0.998. Precision: 0.988\n"
     ]
    },
    {
     "name": "stderr",
     "output_type": "stream",
     "text": [
      "200it [05:56,  1.66s/it]"
     ]
    },
    {
     "name": "stdout",
     "output_type": "stream",
     "text": [
      "Iter 200. Loss: 0.018. Accuracy: 0.999. Recall: 0.998. Precision: 0.985\n"
     ]
    },
    {
     "name": "stderr",
     "output_type": "stream",
     "text": [
      "300it [08:57,  1.70s/it]"
     ]
    },
    {
     "name": "stdout",
     "output_type": "stream",
     "text": [
      "Iter 300. Loss: 0.014. Accuracy: 0.999. Recall: 0.998. Precision: 0.986\n"
     ]
    },
    {
     "name": "stderr",
     "output_type": "stream",
     "text": [
      "400it [11:46,  1.68s/it]"
     ]
    },
    {
     "name": "stdout",
     "output_type": "stream",
     "text": [
      "Iter 400. Loss: 0.283. Accuracy: 0.993. Recall: 0.927. Precision: 0.920\n"
     ]
    },
    {
     "name": "stderr",
     "output_type": "stream",
     "text": [
      "476it [13:56,  1.76s/it]\n"
     ]
    },
    {
     "name": "stdout",
     "output_type": "stream",
     "text": [
      "Tracking: MOT16-02\n",
      "Tracks found: 189\n",
      "Runtime for MOT16-02: 87.9 s.\n",
      "Tracking: MOT16-11\n",
      "Tracks found: 121\n",
      "Runtime for MOT16-11: 47.4 s.\n",
      "Runtime for all sequences: 135.3 s.\n"
     ]
    },
    {
     "name": "stderr",
     "output_type": "stream",
     "text": [
      "C:\\Users\\yusuf\\anaconda3\\lib\\site-packages\\motmetrics\\mot.py:344: FutureWarning: The frame.append method is deprecated and will be removed from pandas in a future version. Use pandas.concat instead.\n",
      "  r = r.append(copy)\n",
      "C:\\Users\\yusuf\\anaconda3\\lib\\site-packages\\motmetrics\\mot.py:344: FutureWarning: The frame.append method is deprecated and will be removed from pandas in a future version. Use pandas.concat instead.\n",
      "  r = r.append(copy)\n"
     ]
    },
    {
     "name": "stdout",
     "output_type": "stream",
     "text": [
      "          IDF1   IDP   IDR  Rcll  Prcn  GT MT PT ML  FP    FN IDs   FM  MOTA  MOTP\n",
      "MOT16-02 47.7% 67.7% 36.9% 52.3% 96.1%  62 11 38 13 396  8861 118  211 49.5% 0.095\n",
      "MOT16-11 74.6% 82.2% 68.3% 80.2% 96.6%  75 44 24  7 269  1869  47   88 76.8% 0.083\n",
      "OVERALL  57.8% 74.0% 47.4% 61.7% 96.3% 137 55 62 20 665 10730 165  299 58.7% 0.089\n",
      "-------- EPOC H  4 --------\n"
     ]
    },
    {
     "name": "stderr",
     "output_type": "stream",
     "text": [
      "100it [02:34,  1.14s/it]"
     ]
    },
    {
     "name": "stdout",
     "output_type": "stream",
     "text": [
      "Iter 100. Loss: 0.028. Accuracy: 0.999. Recall: 0.997. Precision: 0.989\n"
     ]
    },
    {
     "name": "stderr",
     "output_type": "stream",
     "text": [
      "200it [05:17,  1.70s/it]"
     ]
    },
    {
     "name": "stdout",
     "output_type": "stream",
     "text": [
      "Iter 200. Loss: 0.021. Accuracy: 0.999. Recall: 0.997. Precision: 0.990\n"
     ]
    },
    {
     "name": "stderr",
     "output_type": "stream",
     "text": [
      "300it [08:01,  1.81s/it]"
     ]
    },
    {
     "name": "stdout",
     "output_type": "stream",
     "text": [
      "Iter 300. Loss: 0.017. Accuracy: 0.999. Recall: 0.998. Precision: 0.989\n"
     ]
    },
    {
     "name": "stderr",
     "output_type": "stream",
     "text": [
      "400it [10:42,  1.51s/it]"
     ]
    },
    {
     "name": "stdout",
     "output_type": "stream",
     "text": [
      "Iter 400. Loss: 0.019. Accuracy: 0.999. Recall: 0.997. Precision: 0.989\n"
     ]
    },
    {
     "name": "stderr",
     "output_type": "stream",
     "text": [
      "476it [12:44,  1.61s/it]\n"
     ]
    },
    {
     "name": "stdout",
     "output_type": "stream",
     "text": [
      "Tracking: MOT16-02\n",
      "Tracks found: 93\n",
      "Runtime for MOT16-02: 73.5 s.\n",
      "Tracking: MOT16-11\n",
      "Tracks found: 81\n",
      "Runtime for MOT16-11: 44.4 s.\n",
      "Runtime for all sequences: 117.9 s.\n"
     ]
    },
    {
     "name": "stderr",
     "output_type": "stream",
     "text": [
      "C:\\Users\\yusuf\\anaconda3\\lib\\site-packages\\motmetrics\\mot.py:344: FutureWarning: The frame.append method is deprecated and will be removed from pandas in a future version. Use pandas.concat instead.\n",
      "  r = r.append(copy)\n",
      "C:\\Users\\yusuf\\anaconda3\\lib\\site-packages\\motmetrics\\mot.py:344: FutureWarning: The frame.append method is deprecated and will be removed from pandas in a future version. Use pandas.concat instead.\n",
      "  r = r.append(copy)\n"
     ]
    },
    {
     "name": "stdout",
     "output_type": "stream",
     "text": [
      "          IDF1   IDP   IDR  Rcll  Prcn  GT MT PT ML  FP    FN IDs   FM  MOTA  MOTP\n",
      "MOT16-02 46.5% 66.0% 35.9% 52.3% 96.1%  62 11 38 13 394  8863 100  216 49.6% 0.095\n",
      "MOT16-11 68.4% 75.4% 62.6% 80.2% 96.6%  75 44 24  7 267  1869  46   89 76.9% 0.083\n",
      "OVERALL  54.7% 70.1% 44.9% 61.7% 96.3% 137 55 62 20 661 10732 146  305 58.8% 0.090\n",
      "-------- EPOC H  5 --------\n"
     ]
    },
    {
     "name": "stderr",
     "output_type": "stream",
     "text": [
      "100it [02:25,  1.63s/it]"
     ]
    },
    {
     "name": "stdout",
     "output_type": "stream",
     "text": [
      "Iter 100. Loss: 0.015. Accuracy: 0.999. Recall: 0.998. Precision: 0.987\n"
     ]
    },
    {
     "name": "stderr",
     "output_type": "stream",
     "text": [
      "200it [04:54,  1.49s/it]"
     ]
    },
    {
     "name": "stdout",
     "output_type": "stream",
     "text": [
      "Iter 200. Loss: 0.015. Accuracy: 0.999. Recall: 0.998. Precision: 0.987\n"
     ]
    },
    {
     "name": "stderr",
     "output_type": "stream",
     "text": [
      "300it [07:20,  1.47s/it]"
     ]
    },
    {
     "name": "stdout",
     "output_type": "stream",
     "text": [
      "Iter 300. Loss: 0.014. Accuracy: 0.999. Recall: 0.998. Precision: 0.988\n"
     ]
    },
    {
     "name": "stderr",
     "output_type": "stream",
     "text": [
      "400it [09:49,  1.45s/it]"
     ]
    },
    {
     "name": "stdout",
     "output_type": "stream",
     "text": [
      "Iter 400. Loss: 0.014. Accuracy: 0.999. Recall: 0.998. Precision: 0.988\n"
     ]
    },
    {
     "name": "stderr",
     "output_type": "stream",
     "text": [
      "476it [11:39,  1.47s/it]\n"
     ]
    },
    {
     "name": "stdout",
     "output_type": "stream",
     "text": [
      "Tracking: MOT16-02\n",
      "Tracks found: 88\n",
      "Runtime for MOT16-02: 70.3 s.\n",
      "Tracking: MOT16-11\n",
      "Tracks found: 81\n",
      "Runtime for MOT16-11: 43.7 s.\n",
      "Runtime for all sequences: 114.1 s.\n"
     ]
    },
    {
     "name": "stderr",
     "output_type": "stream",
     "text": [
      "C:\\Users\\yusuf\\anaconda3\\lib\\site-packages\\motmetrics\\mot.py:344: FutureWarning: The frame.append method is deprecated and will be removed from pandas in a future version. Use pandas.concat instead.\n",
      "  r = r.append(copy)\n",
      "C:\\Users\\yusuf\\anaconda3\\lib\\site-packages\\motmetrics\\mot.py:344: FutureWarning: The frame.append method is deprecated and will be removed from pandas in a future version. Use pandas.concat instead.\n",
      "  r = r.append(copy)\n"
     ]
    },
    {
     "name": "stdout",
     "output_type": "stream",
     "text": [
      "          IDF1   IDP   IDR  Rcll  Prcn  GT MT PT ML  FP    FN IDs   FM  MOTA  MOTP\n",
      "MOT16-02 45.8% 65.0% 35.3% 52.3% 96.1%  62 11 38 13 393  8864 103  216 49.6% 0.095\n",
      "MOT16-11 69.0% 76.1% 63.2% 80.2% 96.6%  75 44 24  7 268  1869  45   89 76.9% 0.083\n",
      "OVERALL  54.5% 69.8% 44.7% 61.7% 96.3% 137 55 62 20 661 10733 148  305 58.8% 0.090\n",
      "-------- EPOC H  6 --------\n"
     ]
    },
    {
     "name": "stderr",
     "output_type": "stream",
     "text": [
      "100it [02:28,  1.65s/it]"
     ]
    },
    {
     "name": "stdout",
     "output_type": "stream",
     "text": [
      "Iter 100. Loss: 0.011. Accuracy: 0.999. Recall: 0.998. Precision: 0.989\n"
     ]
    },
    {
     "name": "stderr",
     "output_type": "stream",
     "text": [
      "200it [04:58,  1.50s/it]"
     ]
    },
    {
     "name": "stdout",
     "output_type": "stream",
     "text": [
      "Iter 200. Loss: 0.013. Accuracy: 0.999. Recall: 0.998. Precision: 0.990\n"
     ]
    },
    {
     "name": "stderr",
     "output_type": "stream",
     "text": [
      "300it [07:18,  1.22s/it]"
     ]
    },
    {
     "name": "stdout",
     "output_type": "stream",
     "text": [
      "Iter 300. Loss: 0.010. Accuracy: 0.999. Recall: 0.998. Precision: 0.990\n"
     ]
    },
    {
     "name": "stderr",
     "output_type": "stream",
     "text": [
      "400it [09:37,  1.39s/it]"
     ]
    },
    {
     "name": "stdout",
     "output_type": "stream",
     "text": [
      "Iter 400. Loss: 0.013. Accuracy: 0.999. Recall: 0.999. Precision: 0.988\n"
     ]
    },
    {
     "name": "stderr",
     "output_type": "stream",
     "text": [
      "476it [11:31,  1.45s/it]\n"
     ]
    },
    {
     "name": "stdout",
     "output_type": "stream",
     "text": [
      "Tracking: MOT16-02\n",
      "Tracks found: 91\n",
      "Runtime for MOT16-02: 70.3 s.\n",
      "Tracking: MOT16-11\n",
      "Tracks found: 81\n",
      "Runtime for MOT16-11: 42.7 s.\n",
      "Runtime for all sequences: 112.9 s.\n"
     ]
    },
    {
     "name": "stderr",
     "output_type": "stream",
     "text": [
      "C:\\Users\\yusuf\\anaconda3\\lib\\site-packages\\motmetrics\\mot.py:344: FutureWarning: The frame.append method is deprecated and will be removed from pandas in a future version. Use pandas.concat instead.\n",
      "  r = r.append(copy)\n",
      "C:\\Users\\yusuf\\anaconda3\\lib\\site-packages\\motmetrics\\mot.py:344: FutureWarning: The frame.append method is deprecated and will be removed from pandas in a future version. Use pandas.concat instead.\n",
      "  r = r.append(copy)\n"
     ]
    },
    {
     "name": "stdout",
     "output_type": "stream",
     "text": [
      "          IDF1   IDP   IDR  Rcll  Prcn  GT MT PT ML  FP    FN IDs   FM  MOTA  MOTP\n",
      "MOT16-02 46.7% 66.2% 36.0% 52.3% 96.1%  62 11 38 13 393  8862  99  219 49.7% 0.095\n",
      "MOT16-11 69.2% 76.2% 63.3% 80.2% 96.6%  75 44 24  7 268  1869  44   89 76.9% 0.083\n",
      "OVERALL  55.1% 70.6% 45.2% 61.7% 96.3% 137 55 62 20 661 10731 143  308 58.8% 0.090\n",
      "-------- EPOC H  7 --------\n"
     ]
    },
    {
     "name": "stderr",
     "output_type": "stream",
     "text": [
      "100it [02:24,  1.75s/it]"
     ]
    },
    {
     "name": "stdout",
     "output_type": "stream",
     "text": [
      "Iter 100. Loss: 0.013. Accuracy: 0.999. Recall: 0.998. Precision: 0.990\n"
     ]
    },
    {
     "name": "stderr",
     "output_type": "stream",
     "text": [
      "200it [04:52,  1.53s/it]"
     ]
    },
    {
     "name": "stdout",
     "output_type": "stream",
     "text": [
      "Iter 200. Loss: 0.009. Accuracy: 0.999. Recall: 0.999. Precision: 0.991\n"
     ]
    },
    {
     "name": "stderr",
     "output_type": "stream",
     "text": [
      "300it [07:17,  1.35s/it]"
     ]
    },
    {
     "name": "stdout",
     "output_type": "stream",
     "text": [
      "Iter 300. Loss: 0.009. Accuracy: 0.999. Recall: 0.999. Precision: 0.991\n"
     ]
    },
    {
     "name": "stderr",
     "output_type": "stream",
     "text": [
      "400it [09:40,  1.53s/it]"
     ]
    },
    {
     "name": "stdout",
     "output_type": "stream",
     "text": [
      "Iter 400. Loss: 0.013. Accuracy: 0.999. Recall: 0.998. Precision: 0.989\n"
     ]
    },
    {
     "name": "stderr",
     "output_type": "stream",
     "text": [
      "476it [11:27,  1.44s/it]\n"
     ]
    },
    {
     "name": "stdout",
     "output_type": "stream",
     "text": [
      "Tracking: MOT16-02\n",
      "Tracks found: 94\n",
      "Runtime for MOT16-02: 70.0 s.\n",
      "Tracking: MOT16-11\n",
      "Tracks found: 82\n",
      "Runtime for MOT16-11: 43.1 s.\n",
      "Runtime for all sequences: 113.0 s.\n"
     ]
    },
    {
     "name": "stderr",
     "output_type": "stream",
     "text": [
      "C:\\Users\\yusuf\\anaconda3\\lib\\site-packages\\motmetrics\\mot.py:344: FutureWarning: The frame.append method is deprecated and will be removed from pandas in a future version. Use pandas.concat instead.\n",
      "  r = r.append(copy)\n",
      "C:\\Users\\yusuf\\anaconda3\\lib\\site-packages\\motmetrics\\mot.py:344: FutureWarning: The frame.append method is deprecated and will be removed from pandas in a future version. Use pandas.concat instead.\n",
      "  r = r.append(copy)\n"
     ]
    },
    {
     "name": "stdout",
     "output_type": "stream",
     "text": [
      "          IDF1   IDP   IDR  Rcll  Prcn  GT MT PT ML  FP    FN IDs   FM  MOTA  MOTP\n",
      "MOT16-02 47.2% 67.0% 36.5% 52.3% 96.1%  62 11 38 13 393  8863 100  219 49.6% 0.095\n",
      "MOT16-11 69.4% 76.5% 63.5% 80.2% 96.6%  75 44 24  7 267  1869  43   89 76.9% 0.083\n",
      "OVERALL  55.6% 71.2% 45.6% 61.7% 96.3% 137 55 62 20 660 10732 143  308 58.8% 0.090\n",
      "-------- EPOC H  8 --------\n"
     ]
    },
    {
     "name": "stderr",
     "output_type": "stream",
     "text": [
      "100it [02:32,  1.47s/it]"
     ]
    },
    {
     "name": "stdout",
     "output_type": "stream",
     "text": [
      "Iter 100. Loss: 0.009. Accuracy: 0.999. Recall: 1.000. Precision: 0.992\n"
     ]
    },
    {
     "name": "stderr",
     "output_type": "stream",
     "text": [
      "200it [04:57,  1.53s/it]"
     ]
    },
    {
     "name": "stdout",
     "output_type": "stream",
     "text": [
      "Iter 200. Loss: 0.009. Accuracy: 0.999. Recall: 0.999. Precision: 0.992\n"
     ]
    },
    {
     "name": "stderr",
     "output_type": "stream",
     "text": [
      "300it [07:13,  1.41s/it]"
     ]
    },
    {
     "name": "stdout",
     "output_type": "stream",
     "text": [
      "Iter 300. Loss: 0.013. Accuracy: 0.999. Recall: 0.998. Precision: 0.989\n"
     ]
    },
    {
     "name": "stderr",
     "output_type": "stream",
     "text": [
      "400it [09:37,  1.40s/it]"
     ]
    },
    {
     "name": "stdout",
     "output_type": "stream",
     "text": [
      "Iter 400. Loss: 0.013. Accuracy: 0.999. Recall: 0.998. Precision: 0.989\n"
     ]
    },
    {
     "name": "stderr",
     "output_type": "stream",
     "text": [
      "476it [11:26,  1.44s/it]\n"
     ]
    },
    {
     "name": "stdout",
     "output_type": "stream",
     "text": [
      "Tracking: MOT16-02\n",
      "Tracks found: 88\n",
      "Runtime for MOT16-02: 70.0 s.\n",
      "Tracking: MOT16-11\n",
      "Tracks found: 81\n",
      "Runtime for MOT16-11: 42.5 s.\n",
      "Runtime for all sequences: 112.5 s.\n"
     ]
    },
    {
     "name": "stderr",
     "output_type": "stream",
     "text": [
      "C:\\Users\\yusuf\\anaconda3\\lib\\site-packages\\motmetrics\\mot.py:344: FutureWarning: The frame.append method is deprecated and will be removed from pandas in a future version. Use pandas.concat instead.\n",
      "  r = r.append(copy)\n",
      "C:\\Users\\yusuf\\anaconda3\\lib\\site-packages\\motmetrics\\mot.py:344: FutureWarning: The frame.append method is deprecated and will be removed from pandas in a future version. Use pandas.concat instead.\n",
      "  r = r.append(copy)\n"
     ]
    },
    {
     "name": "stdout",
     "output_type": "stream",
     "text": [
      "          IDF1   IDP   IDR  Rcll  Prcn  GT MT PT ML  FP    FN IDs   FM  MOTA  MOTP\n",
      "MOT16-02 46.2% 65.5% 35.6% 52.3% 96.1%  62 11 38 13 393  8864 102  219 49.6% 0.095\n",
      "MOT16-11 69.4% 76.5% 63.5% 80.2% 96.6%  75 44 24  7 268  1869  43   89 76.9% 0.083\n",
      "OVERALL  54.9% 70.3% 45.0% 61.7% 96.3% 137 55 62 20 661 10733 145  308 58.8% 0.090\n",
      "-------- EPOC H  9 --------\n"
     ]
    },
    {
     "name": "stderr",
     "output_type": "stream",
     "text": [
      "100it [02:24,  1.61s/it]"
     ]
    },
    {
     "name": "stdout",
     "output_type": "stream",
     "text": [
      "Iter 100. Loss: 0.011. Accuracy: 0.999. Recall: 0.999. Precision: 0.991\n"
     ]
    },
    {
     "name": "stderr",
     "output_type": "stream",
     "text": [
      "200it [04:51,  1.29s/it]"
     ]
    },
    {
     "name": "stdout",
     "output_type": "stream",
     "text": [
      "Iter 200. Loss: 0.016. Accuracy: 0.999. Recall: 0.998. Precision: 0.987\n"
     ]
    },
    {
     "name": "stderr",
     "output_type": "stream",
     "text": [
      "300it [07:20,  1.25s/it]"
     ]
    },
    {
     "name": "stdout",
     "output_type": "stream",
     "text": [
      "Iter 300. Loss: 0.010. Accuracy: 0.999. Recall: 0.999. Precision: 0.987\n"
     ]
    },
    {
     "name": "stderr",
     "output_type": "stream",
     "text": [
      "400it [09:37,  1.33s/it]"
     ]
    },
    {
     "name": "stdout",
     "output_type": "stream",
     "text": [
      "Iter 400. Loss: 0.013. Accuracy: 0.999. Recall: 0.998. Precision: 0.990\n"
     ]
    },
    {
     "name": "stderr",
     "output_type": "stream",
     "text": [
      "476it [11:28,  1.45s/it]\n"
     ]
    },
    {
     "name": "stdout",
     "output_type": "stream",
     "text": [
      "Tracking: MOT16-02\n",
      "Tracks found: 88\n",
      "Runtime for MOT16-02: 70.0 s.\n",
      "Tracking: MOT16-11\n",
      "Tracks found: 82\n",
      "Runtime for MOT16-11: 43.1 s.\n",
      "Runtime for all sequences: 113.1 s.\n"
     ]
    },
    {
     "name": "stderr",
     "output_type": "stream",
     "text": [
      "C:\\Users\\yusuf\\anaconda3\\lib\\site-packages\\motmetrics\\mot.py:344: FutureWarning: The frame.append method is deprecated and will be removed from pandas in a future version. Use pandas.concat instead.\n",
      "  r = r.append(copy)\n",
      "C:\\Users\\yusuf\\anaconda3\\lib\\site-packages\\motmetrics\\mot.py:344: FutureWarning: The frame.append method is deprecated and will be removed from pandas in a future version. Use pandas.concat instead.\n",
      "  r = r.append(copy)\n"
     ]
    },
    {
     "name": "stdout",
     "output_type": "stream",
     "text": [
      "          IDF1   IDP   IDR  Rcll  Prcn  GT MT PT ML  FP    FN IDs   FM  MOTA  MOTP\n",
      "MOT16-02 46.7% 66.3% 36.1% 52.3% 96.1%  62 11 38 13 393  8864  99  220 49.6% 0.095\n",
      "MOT16-11 69.4% 76.5% 63.5% 80.2% 96.6%  75 44 24  7 267  1869  41   89 76.9% 0.083\n",
      "OVERALL  55.3% 70.8% 45.3% 61.7% 96.3% 137 55 62 20 660 10733 140  309 58.8% 0.090\n",
      "-------- EPOC H 10 --------\n"
     ]
    },
    {
     "name": "stderr",
     "output_type": "stream",
     "text": [
      "100it [02:27,  1.41s/it]"
     ]
    },
    {
     "name": "stdout",
     "output_type": "stream",
     "text": [
      "Iter 100. Loss: 0.009. Accuracy: 0.999. Recall: 1.000. Precision: 0.991\n"
     ]
    },
    {
     "name": "stderr",
     "output_type": "stream",
     "text": [
      "200it [04:49,  1.38s/it]"
     ]
    },
    {
     "name": "stdout",
     "output_type": "stream",
     "text": [
      "Iter 200. Loss: 0.010. Accuracy: 0.999. Recall: 0.999. Precision: 0.990\n"
     ]
    },
    {
     "name": "stderr",
     "output_type": "stream",
     "text": [
      "300it [07:13,  1.78s/it]"
     ]
    },
    {
     "name": "stdout",
     "output_type": "stream",
     "text": [
      "Iter 300. Loss: 0.009. Accuracy: 0.999. Recall: 0.999. Precision: 0.992\n"
     ]
    },
    {
     "name": "stderr",
     "output_type": "stream",
     "text": [
      "400it [09:32,  1.28s/it]"
     ]
    },
    {
     "name": "stdout",
     "output_type": "stream",
     "text": [
      "Iter 400. Loss: 0.011. Accuracy: 0.999. Recall: 0.998. Precision: 0.989\n"
     ]
    },
    {
     "name": "stderr",
     "output_type": "stream",
     "text": [
      "476it [11:24,  1.44s/it]\n"
     ]
    },
    {
     "name": "stdout",
     "output_type": "stream",
     "text": [
      "Tracking: MOT16-02\n",
      "Tracks found: 89\n",
      "Runtime for MOT16-02: 69.9 s.\n",
      "Tracking: MOT16-11\n",
      "Tracks found: 82\n",
      "Runtime for MOT16-11: 42.7 s.\n",
      "Runtime for all sequences: 112.6 s.\n"
     ]
    },
    {
     "name": "stderr",
     "output_type": "stream",
     "text": [
      "C:\\Users\\yusuf\\anaconda3\\lib\\site-packages\\motmetrics\\mot.py:344: FutureWarning: The frame.append method is deprecated and will be removed from pandas in a future version. Use pandas.concat instead.\n",
      "  r = r.append(copy)\n",
      "C:\\Users\\yusuf\\anaconda3\\lib\\site-packages\\motmetrics\\mot.py:344: FutureWarning: The frame.append method is deprecated and will be removed from pandas in a future version. Use pandas.concat instead.\n",
      "  r = r.append(copy)\n"
     ]
    },
    {
     "name": "stdout",
     "output_type": "stream",
     "text": [
      "          IDF1   IDP   IDR  Rcll  Prcn  GT MT PT ML  FP    FN IDs   FM  MOTA  MOTP\n",
      "MOT16-02 47.8% 67.8% 36.9% 52.3% 96.1%  62 11 38 13 393  8864  99  220 49.6% 0.095\n",
      "MOT16-11 69.4% 76.5% 63.5% 80.2% 96.6%  75 44 24  7 267  1869  41   89 76.9% 0.083\n",
      "OVERALL  55.9% 71.6% 45.9% 61.7% 96.3% 137 55 62 20 660 10733 140  309 58.8% 0.090\n",
      "-------- EPOC H 11 --------\n"
     ]
    },
    {
     "name": "stderr",
     "output_type": "stream",
     "text": [
      "100it [02:27,  1.28s/it]"
     ]
    },
    {
     "name": "stdout",
     "output_type": "stream",
     "text": [
      "Iter 100. Loss: 0.012. Accuracy: 0.999. Recall: 0.998. Precision: 0.987\n"
     ]
    },
    {
     "name": "stderr",
     "output_type": "stream",
     "text": [
      "200it [04:42,  1.39s/it]"
     ]
    },
    {
     "name": "stdout",
     "output_type": "stream",
     "text": [
      "Iter 200. Loss: 0.009. Accuracy: 0.999. Recall: 0.999. Precision: 0.989\n"
     ]
    },
    {
     "name": "stderr",
     "output_type": "stream",
     "text": [
      "300it [07:08,  1.46s/it]"
     ]
    },
    {
     "name": "stdout",
     "output_type": "stream",
     "text": [
      "Iter 300. Loss: 0.008. Accuracy: 0.999. Recall: 0.999. Precision: 0.992\n"
     ]
    },
    {
     "name": "stderr",
     "output_type": "stream",
     "text": [
      "400it [09:31,  1.34s/it]"
     ]
    },
    {
     "name": "stdout",
     "output_type": "stream",
     "text": [
      "Iter 400. Loss: 0.010. Accuracy: 0.999. Recall: 0.999. Precision: 0.989\n"
     ]
    },
    {
     "name": "stderr",
     "output_type": "stream",
     "text": [
      "476it [11:24,  1.44s/it]\n"
     ]
    },
    {
     "name": "stdout",
     "output_type": "stream",
     "text": [
      "Tracking: MOT16-02\n",
      "Tracks found: 89\n",
      "Runtime for MOT16-02: 70.5 s.\n",
      "Tracking: MOT16-11\n",
      "Tracks found: 82\n",
      "Runtime for MOT16-11: 43.0 s.\n",
      "Runtime for all sequences: 113.5 s.\n"
     ]
    },
    {
     "name": "stderr",
     "output_type": "stream",
     "text": [
      "C:\\Users\\yusuf\\anaconda3\\lib\\site-packages\\motmetrics\\mot.py:344: FutureWarning: The frame.append method is deprecated and will be removed from pandas in a future version. Use pandas.concat instead.\n",
      "  r = r.append(copy)\n",
      "C:\\Users\\yusuf\\anaconda3\\lib\\site-packages\\motmetrics\\mot.py:344: FutureWarning: The frame.append method is deprecated and will be removed from pandas in a future version. Use pandas.concat instead.\n",
      "  r = r.append(copy)\n"
     ]
    },
    {
     "name": "stdout",
     "output_type": "stream",
     "text": [
      "          IDF1   IDP   IDR  Rcll  Prcn  GT MT PT ML  FP    FN IDs   FM  MOTA  MOTP\n",
      "MOT16-02 47.8% 67.8% 36.9% 52.3% 96.1%  62 11 38 13 393  8864  99  220 49.6% 0.095\n",
      "MOT16-11 69.4% 76.5% 63.5% 80.2% 96.6%  75 44 24  7 267  1869  41   89 76.9% 0.083\n",
      "OVERALL  55.9% 71.6% 45.9% 61.7% 96.3% 137 55 62 20 660 10733 140  309 58.8% 0.090\n",
      "-------- EPOC H 12 --------\n"
     ]
    },
    {
     "name": "stderr",
     "output_type": "stream",
     "text": [
      "100it [02:20,  1.39s/it]"
     ]
    },
    {
     "name": "stdout",
     "output_type": "stream",
     "text": [
      "Iter 100. Loss: 0.012. Accuracy: 0.999. Recall: 0.999. Precision: 0.990\n"
     ]
    },
    {
     "name": "stderr",
     "output_type": "stream",
     "text": [
      "200it [04:44,  1.41s/it]"
     ]
    },
    {
     "name": "stdout",
     "output_type": "stream",
     "text": [
      "Iter 200. Loss: 0.011. Accuracy: 0.999. Recall: 0.999. Precision: 0.992\n"
     ]
    },
    {
     "name": "stderr",
     "output_type": "stream",
     "text": [
      "300it [07:08,  1.42s/it]"
     ]
    },
    {
     "name": "stdout",
     "output_type": "stream",
     "text": [
      "Iter 300. Loss: 0.007. Accuracy: 0.999. Recall: 1.000. Precision: 0.990\n"
     ]
    },
    {
     "name": "stderr",
     "output_type": "stream",
     "text": [
      "400it [09:32,  1.53s/it]"
     ]
    },
    {
     "name": "stdout",
     "output_type": "stream",
     "text": [
      "Iter 400. Loss: 0.010. Accuracy: 0.999. Recall: 0.999. Precision: 0.990\n"
     ]
    },
    {
     "name": "stderr",
     "output_type": "stream",
     "text": [
      "476it [11:25,  1.44s/it]\n"
     ]
    },
    {
     "name": "stdout",
     "output_type": "stream",
     "text": [
      "Tracking: MOT16-02\n",
      "Tracks found: 89\n",
      "Runtime for MOT16-02: 70.1 s.\n",
      "Tracking: MOT16-11\n",
      "Tracks found: 80\n",
      "Runtime for MOT16-11: 43.3 s.\n",
      "Runtime for all sequences: 113.4 s.\n"
     ]
    },
    {
     "name": "stderr",
     "output_type": "stream",
     "text": [
      "C:\\Users\\yusuf\\anaconda3\\lib\\site-packages\\motmetrics\\mot.py:344: FutureWarning: The frame.append method is deprecated and will be removed from pandas in a future version. Use pandas.concat instead.\n",
      "  r = r.append(copy)\n",
      "C:\\Users\\yusuf\\anaconda3\\lib\\site-packages\\motmetrics\\mot.py:344: FutureWarning: The frame.append method is deprecated and will be removed from pandas in a future version. Use pandas.concat instead.\n",
      "  r = r.append(copy)\n"
     ]
    },
    {
     "name": "stdout",
     "output_type": "stream",
     "text": [
      "          IDF1   IDP   IDR  Rcll  Prcn  GT MT PT ML  FP    FN IDs   FM  MOTA  MOTP\n",
      "MOT16-02 46.8% 66.5% 36.2% 52.3% 96.1%  62 11 38 13 393  8865 101  220 49.6% 0.095\n",
      "MOT16-11 69.4% 76.5% 63.5% 80.2% 96.6%  75 44 24  7 267  1870  41   89 76.9% 0.083\n",
      "OVERALL  55.3% 70.9% 45.4% 61.7% 96.3% 137 55 62 20 660 10735 142  309 58.8% 0.090\n",
      "-------- EPOC H 13 --------\n"
     ]
    },
    {
     "name": "stderr",
     "output_type": "stream",
     "text": [
      "100it [02:21,  1.22s/it]"
     ]
    },
    {
     "name": "stdout",
     "output_type": "stream",
     "text": [
      "Iter 100. Loss: 0.012. Accuracy: 0.999. Recall: 0.998. Precision: 0.989\n"
     ]
    },
    {
     "name": "stderr",
     "output_type": "stream",
     "text": [
      "200it [04:42,  1.46s/it]"
     ]
    },
    {
     "name": "stdout",
     "output_type": "stream",
     "text": [
      "Iter 200. Loss: 0.012. Accuracy: 0.999. Recall: 0.997. Precision: 0.987\n"
     ]
    },
    {
     "name": "stderr",
     "output_type": "stream",
     "text": [
      "300it [07:09,  1.51s/it]"
     ]
    },
    {
     "name": "stdout",
     "output_type": "stream",
     "text": [
      "Iter 300. Loss: 0.010. Accuracy: 0.999. Recall: 0.999. Precision: 0.989\n"
     ]
    },
    {
     "name": "stderr",
     "output_type": "stream",
     "text": [
      "400it [09:34,  1.38s/it]"
     ]
    },
    {
     "name": "stdout",
     "output_type": "stream",
     "text": [
      "Iter 400. Loss: 0.008. Accuracy: 0.999. Recall: 0.999. Precision: 0.991\n"
     ]
    },
    {
     "name": "stderr",
     "output_type": "stream",
     "text": [
      "476it [11:25,  1.44s/it]\n"
     ]
    },
    {
     "name": "stdout",
     "output_type": "stream",
     "text": [
      "Tracking: MOT16-02\n",
      "Tracks found: 89\n",
      "Runtime for MOT16-02: 70.6 s.\n",
      "Tracking: MOT16-11\n",
      "Tracks found: 82\n",
      "Runtime for MOT16-11: 42.3 s.\n",
      "Runtime for all sequences: 112.9 s.\n"
     ]
    },
    {
     "name": "stderr",
     "output_type": "stream",
     "text": [
      "C:\\Users\\yusuf\\anaconda3\\lib\\site-packages\\motmetrics\\mot.py:344: FutureWarning: The frame.append method is deprecated and will be removed from pandas in a future version. Use pandas.concat instead.\n",
      "  r = r.append(copy)\n",
      "C:\\Users\\yusuf\\anaconda3\\lib\\site-packages\\motmetrics\\mot.py:344: FutureWarning: The frame.append method is deprecated and will be removed from pandas in a future version. Use pandas.concat instead.\n",
      "  r = r.append(copy)\n"
     ]
    },
    {
     "name": "stdout",
     "output_type": "stream",
     "text": [
      "          IDF1   IDP   IDR  Rcll  Prcn  GT MT PT ML  FP    FN IDs   FM  MOTA  MOTP\n",
      "MOT16-02 47.8% 67.8% 36.9% 52.3% 96.1%  62 11 38 13 393  8864  99  220 49.6% 0.095\n",
      "MOT16-11 69.4% 76.5% 63.5% 80.2% 96.6%  75 44 24  7 267  1869  41   89 76.9% 0.083\n",
      "OVERALL  55.9% 71.6% 45.9% 61.7% 96.3% 137 55 62 20 660 10733 140  309 58.8% 0.090\n",
      "-------- EPOC H 14 --------\n"
     ]
    },
    {
     "name": "stderr",
     "output_type": "stream",
     "text": [
      "100it [02:26,  1.62s/it]"
     ]
    },
    {
     "name": "stdout",
     "output_type": "stream",
     "text": [
      "Iter 100. Loss: 0.010. Accuracy: 0.999. Recall: 0.999. Precision: 0.988\n"
     ]
    },
    {
     "name": "stderr",
     "output_type": "stream",
     "text": [
      "200it [04:52,  1.39s/it]"
     ]
    },
    {
     "name": "stdout",
     "output_type": "stream",
     "text": [
      "Iter 200. Loss: 0.010. Accuracy: 0.999. Recall: 0.999. Precision: 0.989\n"
     ]
    },
    {
     "name": "stderr",
     "output_type": "stream",
     "text": [
      "300it [07:13,  1.49s/it]"
     ]
    },
    {
     "name": "stdout",
     "output_type": "stream",
     "text": [
      "Iter 300. Loss: 0.013. Accuracy: 0.999. Recall: 0.997. Precision: 0.987\n"
     ]
    },
    {
     "name": "stderr",
     "output_type": "stream",
     "text": [
      "400it [09:33,  1.27s/it]"
     ]
    },
    {
     "name": "stdout",
     "output_type": "stream",
     "text": [
      "Iter 400. Loss: 0.010. Accuracy: 0.999. Recall: 0.999. Precision: 0.989\n"
     ]
    },
    {
     "name": "stderr",
     "output_type": "stream",
     "text": [
      "476it [11:23,  1.44s/it]\n"
     ]
    },
    {
     "name": "stdout",
     "output_type": "stream",
     "text": [
      "Tracking: MOT16-02\n",
      "Tracks found: 89\n",
      "Runtime for MOT16-02: 69.7 s.\n",
      "Tracking: MOT16-11\n",
      "Tracks found: 82\n",
      "Runtime for MOT16-11: 43.3 s.\n",
      "Runtime for all sequences: 112.9 s.\n"
     ]
    },
    {
     "name": "stderr",
     "output_type": "stream",
     "text": [
      "C:\\Users\\yusuf\\anaconda3\\lib\\site-packages\\motmetrics\\mot.py:344: FutureWarning: The frame.append method is deprecated and will be removed from pandas in a future version. Use pandas.concat instead.\n",
      "  r = r.append(copy)\n",
      "C:\\Users\\yusuf\\anaconda3\\lib\\site-packages\\motmetrics\\mot.py:344: FutureWarning: The frame.append method is deprecated and will be removed from pandas in a future version. Use pandas.concat instead.\n",
      "  r = r.append(copy)\n"
     ]
    },
    {
     "name": "stdout",
     "output_type": "stream",
     "text": [
      "          IDF1   IDP   IDR  Rcll  Prcn  GT MT PT ML  FP    FN IDs   FM  MOTA  MOTP\n",
      "MOT16-02 47.2% 66.9% 36.4% 52.3% 96.1%  62 11 38 13 393  8864  99  220 49.6% 0.095\n",
      "MOT16-11 69.4% 76.5% 63.5% 80.2% 96.6%  75 44 24  7 267  1869  41   89 76.9% 0.083\n",
      "OVERALL  55.5% 71.1% 45.5% 61.7% 96.3% 137 55 62 20 660 10733 140  309 58.8% 0.090\n",
      "-------- EPOC H 15 --------\n"
     ]
    },
    {
     "name": "stderr",
     "output_type": "stream",
     "text": [
      "100it [02:29,  1.83s/it]"
     ]
    },
    {
     "name": "stdout",
     "output_type": "stream",
     "text": [
      "Iter 100. Loss: 0.011. Accuracy: 0.999. Recall: 0.998. Precision: 0.989\n"
     ]
    },
    {
     "name": "stderr",
     "output_type": "stream",
     "text": [
      "200it [04:47,  1.37s/it]"
     ]
    },
    {
     "name": "stdout",
     "output_type": "stream",
     "text": [
      "Iter 200. Loss: 0.010. Accuracy: 0.999. Recall: 0.999. Precision: 0.989\n"
     ]
    },
    {
     "name": "stderr",
     "output_type": "stream",
     "text": [
      "300it [07:07,  1.59s/it]"
     ]
    },
    {
     "name": "stdout",
     "output_type": "stream",
     "text": [
      "Iter 300. Loss: 0.009. Accuracy: 0.999. Recall: 0.999. Precision: 0.990\n"
     ]
    },
    {
     "name": "stderr",
     "output_type": "stream",
     "text": [
      "400it [09:29,  1.56s/it]"
     ]
    },
    {
     "name": "stdout",
     "output_type": "stream",
     "text": [
      "Iter 400. Loss: 0.012. Accuracy: 0.999. Recall: 0.999. Precision: 0.990\n"
     ]
    },
    {
     "name": "stderr",
     "output_type": "stream",
     "text": [
      "476it [11:23,  1.44s/it]\n"
     ]
    },
    {
     "name": "stdout",
     "output_type": "stream",
     "text": [
      "Tracking: MOT16-02\n",
      "Tracks found: 89\n",
      "Runtime for MOT16-02: 70.2 s.\n",
      "Tracking: MOT16-11\n",
      "Tracks found: 82\n",
      "Runtime for MOT16-11: 42.6 s.\n",
      "Runtime for all sequences: 112.8 s.\n"
     ]
    },
    {
     "name": "stderr",
     "output_type": "stream",
     "text": [
      "C:\\Users\\yusuf\\anaconda3\\lib\\site-packages\\motmetrics\\mot.py:344: FutureWarning: The frame.append method is deprecated and will be removed from pandas in a future version. Use pandas.concat instead.\n",
      "  r = r.append(copy)\n",
      "C:\\Users\\yusuf\\anaconda3\\lib\\site-packages\\motmetrics\\mot.py:344: FutureWarning: The frame.append method is deprecated and will be removed from pandas in a future version. Use pandas.concat instead.\n",
      "  r = r.append(copy)\n"
     ]
    },
    {
     "name": "stdout",
     "output_type": "stream",
     "text": [
      "          IDF1   IDP   IDR  Rcll  Prcn  GT MT PT ML  FP    FN IDs   FM  MOTA  MOTP\n",
      "MOT16-02 47.2% 66.9% 36.4% 52.3% 96.1%  62 11 38 13 393  8864  99  220 49.6% 0.095\n",
      "MOT16-11 69.4% 76.5% 63.5% 80.2% 96.6%  75 44 24  7 267  1869  41   89 76.9% 0.083\n",
      "OVERALL  55.5% 71.1% 45.5% 61.7% 96.3% 137 55 62 20 660 10733 140  309 58.8% 0.090\n"
     ]
    }
   ],
   "source": [
    "best_idf1 = 0.\n",
    "for epoch in range(1, MAX_EPOCHS + 1):\n",
    "    print(f\"-------- EPOC H {epoch:2d} --------\")\n",
    "    train_one_epoch(model = assign_net, data_loader=data_loader, optimizer=optimizer, print_freq=100)\n",
    "    scheduler.step()\n",
    "\n",
    "    if epoch % EVAL_FREQ == 0:\n",
    "        tracker =  MPNTracker(assign_net=assign_net.eval(), obj_detect=None, patience=MAX_PATIENCE)\n",
    "        val_sequences = MOT16Sequences('MOT16-val2', osp.join(root_dir, 'data/MOT16'), vis_threshold=0.)\n",
    "        res = run_tracker(val_sequences, db=train_db, tracker=tracker, output_dir=None)\n",
    "        idf1 = res.loc['OVERALL']['idf1']\n",
    "        if idf1 > best_idf1:\n",
    "            best_idf1 = idf1\n",
    "            torch.save(assign_net.state_dict(), osp.join(root_dir, 'output', 'best_ckpt.pth'))\n"
   ],
   "metadata": {
    "collapsed": false
   }
  },
  {
   "cell_type": "markdown",
   "source": [
    "          IDF1   IDP   IDR  Rcll  Prcn  GT MT PT ML  FP    FN IDs   FM  MOTA  MOTP\n",
    "MOT16-02 44.2% 62.8% 34.1% 52.3% 96.1%  62 11 38 13 391  8865 124  217 49.5% 0.095\n",
    "MOT16-11 66.7% 73.5% 61.0% 80.2% 96.6%  75 44 24  7 267  1871  35   90 77.0% 0.083\n",
    "OVERALL  52.7% 67.4% 43.2% 61.7% 96.3% 137 55 62 20 658 10736 159  307 58.8% 0.090"
   ],
   "metadata": {
    "collapsed": false
   }
  },
  {
   "cell_type": "markdown",
   "source": [],
   "metadata": {
    "collapsed": false
   }
  },
  {
   "cell_type": "markdown",
   "source": [
    "# Exercise submission\n",
    "\n",
    "After executing the following cell, the `Colab Notebooks/cv3dst_exercise/output` directory in your Google Drive should contain multiple `MOT16-XY.txt` files.\n",
    "\n",
    "For the final submission, you must process the test sequences and upload the zipped prediction files to our server.\n",
    "\n",
    "Note that this time, you only have to evaluate three sequences!"
   ],
   "metadata": {
    "collapsed": false
   }
  },
  {
   "cell_type": "code",
   "execution_count": 19,
   "outputs": [
    {
     "name": "stdout",
     "output_type": "stream",
     "text": [
      "Tracking: MOT16-01\n",
      "No GT evaluation data available.\n",
      "Tracks found: 128\n",
      "Runtime for MOT16-01: 38.6 s.\n",
      "Writing predictions to: cv3dst_exercise/output\\MOT16-01.txt\n",
      "Tracking: MOT16-08\n",
      "No GT evaluation data available.\n",
      "Tracks found: 264\n",
      "Runtime for MOT16-08: 67.8 s.\n",
      "Writing predictions to: cv3dst_exercise/output\\MOT16-08.txt\n",
      "Tracking: MOT16-12\n",
      "No GT evaluation data available.\n",
      "Tracks found: 188\n",
      "Runtime for MOT16-12: 38.0 s.\n",
      "Writing predictions to: cv3dst_exercise/output\\MOT16-12.txt\n",
      "Runtime for all sequences: 144.3 s.\n"
     ]
    }
   ],
   "source": [
    "best_ckpt = torch.load(osp.join(root_dir, 'output', 'best_ckpt.pth'))\n",
    "assign_net.load_state_dict(best_ckpt)\n",
    "\n",
    "tracker =  MPNTracker(assign_net=assign_net.eval(), obj_detect=None, patience=MAX_PATIENCE)\n",
    "test_db = torch.load(osp.join(gnn_root_dir, 'data/preprocessed_data_test_2.pth'))\n",
    "val_sequences = MOT16Sequences('MOT16-test', osp.join(root_dir, 'data/MOT16'), vis_threshold=0.)\n",
    "run_tracker(val_sequences, db=test_db, tracker=tracker, output_dir=osp.join(root_dir, 'output'))"
   ],
   "metadata": {
    "collapsed": false
   }
  },
  {
   "cell_type": "code",
   "execution_count": 18,
   "outputs": [],
   "source": [],
   "metadata": {
    "collapsed": false
   }
  }
 ],
 "metadata": {
  "accelerator": "GPU",
  "colab": {
   "machine_shape": "hm",
   "provenance": []
  },
  "kernelspec": {
   "display_name": "Python 3",
   "language": "python",
   "name": "python3"
  },
  "language_info": {
   "codemirror_mode": {
    "name": "ipython",
    "version": 3
   },
   "file_extension": ".py",
   "mimetype": "text/x-python",
   "name": "python",
   "nbconvert_exporter": "python",
   "pygments_lexer": "ipython3",
   "version": "3.6.10"
  }
 },
 "nbformat": 4,
 "nbformat_minor": 0
}
